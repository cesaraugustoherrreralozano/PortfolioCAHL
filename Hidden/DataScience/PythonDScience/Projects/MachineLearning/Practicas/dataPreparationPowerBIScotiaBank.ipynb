{
 "cells": [
  {
   "cell_type": "markdown",
   "metadata": {},
   "source": [
    "# POWER BI Preparation"
   ]
  },
  {
   "cell_type": "code",
   "execution_count": 1,
   "metadata": {},
   "outputs": [],
   "source": [
    "# Import libraries\n",
    "import pandas as pd\n",
    "import numpy as np"
   ]
  },
  {
   "cell_type": "code",
   "execution_count": 2,
   "metadata": {},
   "outputs": [],
   "source": [
    "# Get the datasets to perform the data transformation\n",
    "df_branches = pd.read_csv(\"./Data/branches.csv\")\n",
    "df_contac_center = pd.read_csv(\"./Data/contacCenter.csv\")\n",
    "df_digital_channel = pd.read_csv(\"./Data/digitalChannel.csv\")\n",
    "df_b2b = pd.read_csv(\"./Data/b2b.csv\")\n",
    "df_credit_card = pd.read_csv(\"./Data/creditCard.csv\")"
   ]
  },
  {
   "cell_type": "code",
   "execution_count": 3,
   "metadata": {},
   "outputs": [
    {
     "data": {
      "text/html": [
       "<div>\n",
       "<style scoped>\n",
       "    .dataframe tbody tr th:only-of-type {\n",
       "        vertical-align: middle;\n",
       "    }\n",
       "\n",
       "    .dataframe tbody tr th {\n",
       "        vertical-align: top;\n",
       "    }\n",
       "\n",
       "    .dataframe thead th {\n",
       "        text-align: right;\n",
       "    }\n",
       "</style>\n",
       "<table border=\"1\" class=\"dataframe\">\n",
       "  <thead>\n",
       "    <tr style=\"text-align: right;\">\n",
       "      <th></th>\n",
       "      <th>segment</th>\n",
       "      <th>answerDate</th>\n",
       "      <th>NPS</th>\n",
       "      <th>impactInteraction</th>\n",
       "      <th>reason</th>\n",
       "      <th>improvement</th>\n",
       "    </tr>\n",
       "  </thead>\n",
       "  <tbody>\n",
       "    <tr>\n",
       "      <th>0</th>\n",
       "      <td>Segmento 1</td>\n",
       "      <td>MES 1</td>\n",
       "      <td>0</td>\n",
       "      <td>3</td>\n",
       "      <td>Porque el banco no respalda a sus clientes y t...</td>\n",
       "      <td>Es un banco ineficiente</td>\n",
       "    </tr>\n",
       "    <tr>\n",
       "      <th>1</th>\n",
       "      <td>Segmento 1</td>\n",
       "      <td>MES 2</td>\n",
       "      <td>5</td>\n",
       "      <td>2</td>\n",
       "      <td>No sé soluciono el problema</td>\n",
       "      <td>Más oficinas</td>\n",
       "    </tr>\n",
       "    <tr>\n",
       "      <th>2</th>\n",
       "      <td>Segmento 1</td>\n",
       "      <td>MES 3</td>\n",
       "      <td>5</td>\n",
       "      <td>3</td>\n",
       "      <td>Mucha demora para ll atiendan para consultas</td>\n",
       "      <td>Más módulos de atencion</td>\n",
       "    </tr>\n",
       "    <tr>\n",
       "      <th>3</th>\n",
       "      <td>Segmento 1</td>\n",
       "      <td>MES 1</td>\n",
       "      <td>6</td>\n",
       "      <td>3</td>\n",
       "      <td>La atención estubo bien ,la molestia es por qu...</td>\n",
       "      <td>Que las tarifas sean reales a como se las expl...</td>\n",
       "    </tr>\n",
       "    <tr>\n",
       "      <th>4</th>\n",
       "      <td>Segmento 1</td>\n",
       "      <td>MES 2</td>\n",
       "      <td>5</td>\n",
       "      <td>3</td>\n",
       "      <td>ninguna</td>\n",
       "      <td>gracias</td>\n",
       "    </tr>\n",
       "  </tbody>\n",
       "</table>\n",
       "</div>"
      ],
      "text/plain": [
       "      segment answerDate  NPS  impactInteraction  \\\n",
       "0  Segmento 1      MES 1    0                  3   \n",
       "1  Segmento 1      MES 2    5                  2   \n",
       "2  Segmento 1      MES 3    5                  3   \n",
       "3  Segmento 1      MES 1    6                  3   \n",
       "4  Segmento 1      MES 2    5                  3   \n",
       "\n",
       "                                              reason  \\\n",
       "0  Porque el banco no respalda a sus clientes y t...   \n",
       "1                        No sé soluciono el problema   \n",
       "2       Mucha demora para ll atiendan para consultas   \n",
       "3  La atención estubo bien ,la molestia es por qu...   \n",
       "4                                            ninguna   \n",
       "\n",
       "                                         improvement  \n",
       "0                            Es un banco ineficiente  \n",
       "1                                       Más oficinas  \n",
       "2                            Más módulos de atencion  \n",
       "3  Que las tarifas sean reales a como se las expl...  \n",
       "4                                            gracias  "
      ]
     },
     "execution_count": 3,
     "metadata": {},
     "output_type": "execute_result"
    }
   ],
   "source": [
    "# Drop the index\n",
    "df_branches = df_branches.drop(columns=['index'])\n",
    "df_branches.head()"
   ]
  },
  {
   "cell_type": "code",
   "execution_count": 4,
   "metadata": {},
   "outputs": [
    {
     "data": {
      "text/html": [
       "<div>\n",
       "<style scoped>\n",
       "    .dataframe tbody tr th:only-of-type {\n",
       "        vertical-align: middle;\n",
       "    }\n",
       "\n",
       "    .dataframe tbody tr th {\n",
       "        vertical-align: top;\n",
       "    }\n",
       "\n",
       "    .dataframe thead th {\n",
       "        text-align: right;\n",
       "    }\n",
       "</style>\n",
       "<table border=\"1\" class=\"dataframe\">\n",
       "  <thead>\n",
       "    <tr style=\"text-align: right;\">\n",
       "      <th></th>\n",
       "      <th>segment</th>\n",
       "      <th>answerDate</th>\n",
       "      <th>NPS</th>\n",
       "      <th>impactInteraction</th>\n",
       "      <th>reason</th>\n",
       "      <th>improvement</th>\n",
       "    </tr>\n",
       "  </thead>\n",
       "  <tbody>\n",
       "    <tr>\n",
       "      <th>0</th>\n",
       "      <td>Segmento 1</td>\n",
       "      <td>MES 2</td>\n",
       "      <td>0</td>\n",
       "      <td>5.0</td>\n",
       "      <td>Me ofrecieron beneficios que no eran ciertos, ...</td>\n",
       "      <td>No quiero volver a tener ninguna relación con ...</td>\n",
       "    </tr>\n",
       "    <tr>\n",
       "      <th>1</th>\n",
       "      <td>Segmento 1</td>\n",
       "      <td>MES 3</td>\n",
       "      <td>3</td>\n",
       "      <td>1.0</td>\n",
       "      <td>Atención supremamente demorada, en la anterior...</td>\n",
       "      <td>No creo necesario me vuelvan a atender.</td>\n",
       "    </tr>\n",
       "  </tbody>\n",
       "</table>\n",
       "</div>"
      ],
      "text/plain": [
       "      segment answerDate  NPS  impactInteraction  \\\n",
       "0  Segmento 1      MES 2    0                5.0   \n",
       "1  Segmento 1      MES 3    3                1.0   \n",
       "\n",
       "                                              reason  \\\n",
       "0  Me ofrecieron beneficios que no eran ciertos, ...   \n",
       "1  Atención supremamente demorada, en la anterior...   \n",
       "\n",
       "                                         improvement  \n",
       "0  No quiero volver a tener ninguna relación con ...  \n",
       "1            No creo necesario me vuelvan a atender.  "
      ]
     },
     "execution_count": 4,
     "metadata": {},
     "output_type": "execute_result"
    }
   ],
   "source": [
    "# Drop the index\n",
    "df_contac_center = df_contac_center.drop(columns=['index'])\n",
    "df_contac_center.head(2)"
   ]
  },
  {
   "cell_type": "code",
   "execution_count": 5,
   "metadata": {},
   "outputs": [
    {
     "data": {
      "text/html": [
       "<div>\n",
       "<style scoped>\n",
       "    .dataframe tbody tr th:only-of-type {\n",
       "        vertical-align: middle;\n",
       "    }\n",
       "\n",
       "    .dataframe tbody tr th {\n",
       "        vertical-align: top;\n",
       "    }\n",
       "\n",
       "    .dataframe thead th {\n",
       "        text-align: right;\n",
       "    }\n",
       "</style>\n",
       "<table border=\"1\" class=\"dataframe\">\n",
       "  <thead>\n",
       "    <tr style=\"text-align: right;\">\n",
       "      <th></th>\n",
       "      <th>segment</th>\n",
       "      <th>answerDate</th>\n",
       "      <th>NPS</th>\n",
       "      <th>impactInteraction</th>\n",
       "      <th>reason</th>\n",
       "      <th>improvement</th>\n",
       "    </tr>\n",
       "  </thead>\n",
       "  <tbody>\n",
       "    <tr>\n",
       "      <th>0</th>\n",
       "      <td>Segmento 2</td>\n",
       "      <td>MES 1</td>\n",
       "      <td>0</td>\n",
       "      <td>3</td>\n",
       "      <td>Porque no quiero hacer nada con ustedes. Solo ...</td>\n",
       "      <td>Nada</td>\n",
       "    </tr>\n",
       "    <tr>\n",
       "      <th>1</th>\n",
       "      <td>Segmento 1</td>\n",
       "      <td>MES 2</td>\n",
       "      <td>4</td>\n",
       "      <td>2</td>\n",
       "      <td>Siempre que quiero mirar mis transacciones de ...</td>\n",
       "      <td>Mejorar la información de transacciones de la app</td>\n",
       "    </tr>\n",
       "  </tbody>\n",
       "</table>\n",
       "</div>"
      ],
      "text/plain": [
       "      segment answerDate  NPS  impactInteraction  \\\n",
       "0  Segmento 2      MES 1    0                  3   \n",
       "1  Segmento 1      MES 2    4                  2   \n",
       "\n",
       "                                              reason  \\\n",
       "0  Porque no quiero hacer nada con ustedes. Solo ...   \n",
       "1  Siempre que quiero mirar mis transacciones de ...   \n",
       "\n",
       "                                         improvement  \n",
       "0                                               Nada  \n",
       "1  Mejorar la información de transacciones de la app  "
      ]
     },
     "execution_count": 5,
     "metadata": {},
     "output_type": "execute_result"
    }
   ],
   "source": [
    "# Drop the index\n",
    "df_digital_channel = df_digital_channel.drop(columns=['index'])\n",
    "df_digital_channel.head(2)"
   ]
  },
  {
   "cell_type": "code",
   "execution_count": 6,
   "metadata": {},
   "outputs": [
    {
     "data": {
      "text/html": [
       "<div>\n",
       "<style scoped>\n",
       "    .dataframe tbody tr th:only-of-type {\n",
       "        vertical-align: middle;\n",
       "    }\n",
       "\n",
       "    .dataframe tbody tr th {\n",
       "        vertical-align: top;\n",
       "    }\n",
       "\n",
       "    .dataframe thead th {\n",
       "        text-align: right;\n",
       "    }\n",
       "</style>\n",
       "<table border=\"1\" class=\"dataframe\">\n",
       "  <thead>\n",
       "    <tr style=\"text-align: right;\">\n",
       "      <th></th>\n",
       "      <th>answerDate</th>\n",
       "      <th>surveyType</th>\n",
       "      <th>NPS_BSC</th>\n",
       "      <th>impactInteraction</th>\n",
       "      <th>reason</th>\n",
       "      <th>improvement</th>\n",
       "      <th>NPS_Coverage_Team</th>\n",
       "      <th>impactLastInteraction</th>\n",
       "      <th>reasonLastInteraction</th>\n",
       "      <th>improvementLastInteraction</th>\n",
       "      <th>Nps_rel</th>\n",
       "      <th>PDR</th>\n",
       "      <th>expectedBusiness</th>\n",
       "      <th>commRelation</th>\n",
       "      <th>commFactor</th>\n",
       "      <th>commOther</th>\n",
       "    </tr>\n",
       "  </thead>\n",
       "  <tbody>\n",
       "    <tr>\n",
       "      <th>0</th>\n",
       "      <td>MES 1</td>\n",
       "      <td>Relacional</td>\n",
       "      <td>NaN</td>\n",
       "      <td>NaN</td>\n",
       "      <td>NaN</td>\n",
       "      <td>NaN</td>\n",
       "      <td>NaN</td>\n",
       "      <td>NaN</td>\n",
       "      <td>NaN</td>\n",
       "      <td>NaN</td>\n",
       "      <td>10.0</td>\n",
       "      <td>Excelente servicio</td>\n",
       "      <td>Aumente</td>\n",
       "      <td>El Servício recibido es excelente</td>\n",
       "      <td>Excelente experiencia</td>\n",
       "      <td>No gracias</td>\n",
       "    </tr>\n",
       "    <tr>\n",
       "      <th>1</th>\n",
       "      <td>MES 1</td>\n",
       "      <td>Relacional</td>\n",
       "      <td>NaN</td>\n",
       "      <td>NaN</td>\n",
       "      <td>NaN</td>\n",
       "      <td>NaN</td>\n",
       "      <td>NaN</td>\n",
       "      <td>NaN</td>\n",
       "      <td>NaN</td>\n",
       "      <td>NaN</td>\n",
       "      <td>7.0</td>\n",
       "      <td>Mi opinión va mas afocado a la parte operativa...</td>\n",
       "      <td>Se mantenga</td>\n",
       "      <td>NaN</td>\n",
       "      <td>NaN</td>\n",
       "      <td>NaN</td>\n",
       "    </tr>\n",
       "  </tbody>\n",
       "</table>\n",
       "</div>"
      ],
      "text/plain": [
       "  answerDate  surveyType  NPS_BSC impactInteraction reason improvement  \\\n",
       "0      MES 1  Relacional      NaN               NaN    NaN         NaN   \n",
       "1      MES 1  Relacional      NaN               NaN    NaN         NaN   \n",
       "\n",
       "   NPS_Coverage_Team impactLastInteraction reasonLastInteraction  \\\n",
       "0                NaN                   NaN                   NaN   \n",
       "1                NaN                   NaN                   NaN   \n",
       "\n",
       "  improvementLastInteraction  Nps_rel  \\\n",
       "0                        NaN     10.0   \n",
       "1                        NaN      7.0   \n",
       "\n",
       "                                                 PDR expectedBusiness  \\\n",
       "0                                 Excelente servicio          Aumente   \n",
       "1  Mi opinión va mas afocado a la parte operativa...      Se mantenga   \n",
       "\n",
       "                        commRelation             commFactor   commOther  \n",
       "0  El Servício recibido es excelente  Excelente experiencia  No gracias  \n",
       "1                                NaN                    NaN         NaN  "
      ]
     },
     "execution_count": 6,
     "metadata": {},
     "output_type": "execute_result"
    }
   ],
   "source": [
    "df_b2b.head(2)"
   ]
  },
  {
   "cell_type": "code",
   "execution_count": 7,
   "metadata": {},
   "outputs": [
    {
     "data": {
      "text/html": [
       "<div>\n",
       "<style scoped>\n",
       "    .dataframe tbody tr th:only-of-type {\n",
       "        vertical-align: middle;\n",
       "    }\n",
       "\n",
       "    .dataframe tbody tr th {\n",
       "        vertical-align: top;\n",
       "    }\n",
       "\n",
       "    .dataframe thead th {\n",
       "        text-align: right;\n",
       "    }\n",
       "</style>\n",
       "<table border=\"1\" class=\"dataframe\">\n",
       "  <thead>\n",
       "    <tr style=\"text-align: right;\">\n",
       "      <th></th>\n",
       "      <th>propName</th>\n",
       "      <th>segment</th>\n",
       "      <th>interactionDate</th>\n",
       "      <th>NPS</th>\n",
       "      <th>reason_Verbatim</th>\n",
       "      <th>improvement</th>\n",
       "    </tr>\n",
       "  </thead>\n",
       "  <tbody>\n",
       "    <tr>\n",
       "      <th>0</th>\n",
       "      <td>Onboarding</td>\n",
       "      <td>Segmento 1</td>\n",
       "      <td>MES 1</td>\n",
       "      <td>0</td>\n",
       "      <td>No he solicitado ningún producto con ustedes. ...</td>\n",
       "      <td>NaN</td>\n",
       "    </tr>\n",
       "    <tr>\n",
       "      <th>1</th>\n",
       "      <td>Uso</td>\n",
       "      <td>Segmento 1</td>\n",
       "      <td>MES 2</td>\n",
       "      <td>0</td>\n",
       "      <td>Cada uno decide si se endeuda o no</td>\n",
       "      <td>Más claridad en el cobro de los intereses y qu...</td>\n",
       "    </tr>\n",
       "  </tbody>\n",
       "</table>\n",
       "</div>"
      ],
      "text/plain": [
       "     propName     segment interactionDate  NPS  \\\n",
       "0  Onboarding  Segmento 1           MES 1    0   \n",
       "1         Uso  Segmento 1           MES 2    0   \n",
       "\n",
       "                                    reason_Verbatim   \\\n",
       "0  No he solicitado ningún producto con ustedes. ...   \n",
       "1                 Cada uno decide si se endeuda o no   \n",
       "\n",
       "                                         improvement  \n",
       "0                                                NaN  \n",
       "1  Más claridad en el cobro de los intereses y qu...  "
      ]
     },
     "execution_count": 7,
     "metadata": {},
     "output_type": "execute_result"
    }
   ],
   "source": [
    "# Drop the index\n",
    "df_credit_card = df_credit_card.drop(columns=['index'])\n",
    "df_credit_card.head(2)"
   ]
  },
  {
   "cell_type": "markdown",
   "metadata": {},
   "source": [
    "## Unique Values"
   ]
  },
  {
   "cell_type": "markdown",
   "metadata": {},
   "source": [
    "### 1. Branches"
   ]
  },
  {
   "cell_type": "code",
   "execution_count": 8,
   "metadata": {},
   "outputs": [
    {
     "data": {
      "text/plain": [
       "Index(['segment', 'answerDate', 'NPS', 'impactInteraction', 'reason',\n",
       "       'improvement'],\n",
       "      dtype='object')"
      ]
     },
     "execution_count": 8,
     "metadata": {},
     "output_type": "execute_result"
    }
   ],
   "source": [
    "df_branches.columns"
   ]
  },
  {
   "cell_type": "code",
   "execution_count": 9,
   "metadata": {},
   "outputs": [
    {
     "name": "stdout",
     "output_type": "stream",
     "text": [
      "segment unique values: ['Segmento 1' 'Segmento 2' 'Segmento 3'] \n",
      "\n",
      "answerDate unique values: ['MES 1' 'MES 2' 'MES 3'] \n",
      "\n",
      "NPS unique values: [ 0  5  6  1  4  3  2  8  7 10  9] \n",
      "\n",
      "impactInteraction unique values: [3 2 1 5 4] \n",
      "\n"
     ]
    }
   ],
   "source": [
    "# Get the unique values\n",
    "branches_col = ['segment', 'answerDate', 'NPS', 'impactInteraction']\n",
    "for branch in branches_col:\n",
    "    print(f\"{branch} unique values: {df_branches[branch].unique()} \\n\")"
   ]
  },
  {
   "cell_type": "markdown",
   "metadata": {},
   "source": [
    "### 2. Contac Center"
   ]
  },
  {
   "cell_type": "code",
   "execution_count": 10,
   "metadata": {},
   "outputs": [
    {
     "data": {
      "text/plain": [
       "Index(['segment', 'answerDate', 'NPS', 'impactInteraction', 'reason',\n",
       "       'improvement'],\n",
       "      dtype='object')"
      ]
     },
     "execution_count": 10,
     "metadata": {},
     "output_type": "execute_result"
    }
   ],
   "source": [
    "df_contac_center.columns"
   ]
  },
  {
   "cell_type": "code",
   "execution_count": 11,
   "metadata": {},
   "outputs": [
    {
     "ename": "NameError",
     "evalue": "name 'contac_col' is not defined",
     "output_type": "error",
     "traceback": [
      "\u001b[1;31m---------------------------------------------------------------------------\u001b[0m",
      "\u001b[1;31mNameError\u001b[0m                                 Traceback (most recent call last)",
      "Cell \u001b[1;32mIn[11], line 3\u001b[0m\n\u001b[0;32m      1\u001b[0m \u001b[38;5;66;03m# Get the unique values\u001b[39;00m\n\u001b[0;32m      2\u001b[0m \u001b[38;5;66;03m# contac_col = ['segment', 'answerDate', 'NPS', 'impactInteraction']\u001b[39;00m\n\u001b[1;32m----> 3\u001b[0m \u001b[38;5;28;01mfor\u001b[39;00m contac \u001b[38;5;129;01min\u001b[39;00m \u001b[43mcontac_col\u001b[49m:\n\u001b[0;32m      4\u001b[0m     \u001b[38;5;28mprint\u001b[39m(\u001b[38;5;124mf\u001b[39m\u001b[38;5;124m\"\u001b[39m\u001b[38;5;132;01m{\u001b[39;00mcontac\u001b[38;5;132;01m}\u001b[39;00m\u001b[38;5;124m unique values: \u001b[39m\u001b[38;5;132;01m{\u001b[39;00mdf_contac_center[contac]\u001b[38;5;241m.\u001b[39munique()\u001b[38;5;132;01m}\u001b[39;00m\u001b[38;5;124m \u001b[39m\u001b[38;5;130;01m\\n\u001b[39;00m\u001b[38;5;124m\"\u001b[39m)\n",
      "\u001b[1;31mNameError\u001b[0m: name 'contac_col' is not defined"
     ]
    }
   ],
   "source": [
    "# Get the unique values\n",
    "# contac_col = ['segment', 'answerDate', 'NPS', 'impactInteraction']\n",
    "for contac in contac_col:\n",
    "    print(f\"{contac} unique values: {df_contac_center[contac].unique()} \\n\")"
   ]
  },
  {
   "cell_type": "markdown",
   "metadata": {},
   "source": [
    "### 3. Digital Channel"
   ]
  },
  {
   "cell_type": "code",
   "execution_count": null,
   "metadata": {},
   "outputs": [
    {
     "data": {
      "text/plain": [
       "Index(['segment', 'answerDate', 'NPS', 'impactInteraction', 'reason',\n",
       "       'improvement'],\n",
       "      dtype='object')"
      ]
     },
     "execution_count": 138,
     "metadata": {},
     "output_type": "execute_result"
    }
   ],
   "source": [
    "df_digital_channel.columns"
   ]
  },
  {
   "cell_type": "code",
   "execution_count": null,
   "metadata": {},
   "outputs": [
    {
     "name": "stdout",
     "output_type": "stream",
     "text": [
      "segment unique values: ['Segmento 2' 'Segmento 1' 'Segmento 3'] \n",
      "\n",
      "answerDate unique values: ['MES 1' 'MES 2' 'MES 3'] \n",
      "\n",
      "NPS unique values: [ 0  4  6  1  2  5  3  7  8 10  9] \n",
      "\n",
      "impactInteraction unique values: [3 2 1 4 5] \n",
      "\n"
     ]
    }
   ],
   "source": [
    "# Get the unique values\n",
    "digit_col = ['segment', 'answerDate', 'NPS', 'impactInteraction']\n",
    "for digit in digit_col:\n",
    "    print(f\"{digit} unique values: {df_digital_channel[digit].unique()} \\n\")"
   ]
  },
  {
   "cell_type": "markdown",
   "metadata": {},
   "source": [
    "### 4. B2B"
   ]
  },
  {
   "cell_type": "code",
   "execution_count": null,
   "metadata": {},
   "outputs": [
    {
     "data": {
      "text/plain": [
       "Index(['answerDate', 'surveyType', 'NPS_BSC', 'impactInteraction', 'reason',\n",
       "       'improvement', 'NPS_Coverage_Team', 'impactLastInteraction',\n",
       "       'reasonLastInteraction', 'improvementLastInteraction', 'Nps_rel', 'PDR',\n",
       "       'expectedBusiness', 'commRelation', 'commFactor', 'commOther'],\n",
       "      dtype='object')"
      ]
     },
     "execution_count": 140,
     "metadata": {},
     "output_type": "execute_result"
    }
   ],
   "source": [
    "df_b2b.columns"
   ]
  },
  {
   "cell_type": "code",
   "execution_count": null,
   "metadata": {},
   "outputs": [
    {
     "name": "stdout",
     "output_type": "stream",
     "text": [
      "answerDate unique values: ['MES 1' 'MES 2' 'MES 3'] \n",
      "\n",
      "surveyType unique values: ['Relacional' 'BSC' 'Coverage Team'] \n",
      "\n",
      "NPS_BSC unique values: [nan 10.  9.  1.  3.  8.  6.  0.  4.  7.  5.  2.] \n",
      "\n",
      "impactInteraction unique values: [nan 'Aumentó de manera significativa' 'No hubo cambios' 'Aumentó poco'\n",
      " 'Disminuyó de manera significativa' 'Disminuyó poco'] \n",
      "\n",
      "NPS_Coverage_Team unique values: [nan  5. 10.  9.  8.  3.  6.  7.  0.  4.  1.  2.] \n",
      "\n",
      "impactLastInteraction unique values: [nan 'Aumentó poco' 'Aumentó de manera significativa' 'No hubo cambios'\n",
      " 'Disminuyó de manera significativa' 'Disminuyó poco'] \n",
      "\n",
      "Nps_rel unique values: [10.  7. nan  9.  8.  1.  4.  5.  6.  3.  0.  2.] \n",
      "\n",
      "expectedBusiness unique values: ['Aumente' 'Se mantenga' nan 'Disminuya'] \n",
      "\n"
     ]
    }
   ],
   "source": [
    "# Get the unique values\n",
    "b2b_col = ['answerDate', 'surveyType', 'NPS_BSC', 'impactInteraction', 'NPS_Coverage_Team', 'impactLastInteraction',\n",
    "      'Nps_rel', 'expectedBusiness']\n",
    "for b in b2b_col:\n",
    "    print(f\"{b} unique values: {df_b2b[b].unique()} \\n\")"
   ]
  },
  {
   "cell_type": "markdown",
   "metadata": {},
   "source": [
    "### 5. Credit Card"
   ]
  },
  {
   "cell_type": "code",
   "execution_count": null,
   "metadata": {},
   "outputs": [
    {
     "data": {
      "text/plain": [
       "Index(['propName', 'segment', 'interactionDate', 'NPS', 'reason_Verbatim ',\n",
       "       'improvement'],\n",
       "      dtype='object')"
      ]
     },
     "execution_count": 180,
     "metadata": {},
     "output_type": "execute_result"
    }
   ],
   "source": [
    "df_credit_card.columns"
   ]
  },
  {
   "cell_type": "code",
   "execution_count": null,
   "metadata": {},
   "outputs": [
    {
     "name": "stdout",
     "output_type": "stream",
     "text": [
      "propName unique values: ['Onboarding' 'Uso'] \n",
      "\n",
      "segment unique values: ['Segmento 1' 'Preferente' 'Segmento 3' 'PREMIUM'] \n",
      "\n",
      "interactionDate unique values: ['MES 1' 'MES 2' 'MES 3'] \n",
      "\n",
      "NPS unique values: [ 0  6  1  3  2  5  4  8  7  9 10] \n",
      "\n"
     ]
    }
   ],
   "source": [
    "# Get the unique values\n",
    "credit_col = ['propName', 'segment', 'interactionDate', 'NPS']\n",
    "for cred in credit_col:\n",
    "    print(f\"{cred} unique values: {df_credit_card[cred].unique()} \\n\")"
   ]
  },
  {
   "cell_type": "markdown",
   "metadata": {},
   "source": [
    "I ran the above script to determine the unique value in variables of the datasets to create relational data information that will help us to perform in a better way into the Power BI. "
   ]
  },
  {
   "cell_type": "markdown",
   "metadata": {},
   "source": [
    "## Relational data"
   ]
  },
  {
   "cell_type": "code",
   "execution_count": 12,
   "metadata": {},
   "outputs": [],
   "source": [
    "# Determine the relational datasets to perform in Power BI with the key and value.\n",
    "\n",
    "segment_data = [(1,'Segmento 1'), (2,'Segmento 2'), (3,'Segmento 3')]\n",
    "segment_data = pd.DataFrame(segment_data, columns=['Key', 'Value'])\n",
    "segment_data.to_csv('./Data/segmentData.csv', index=False)\n",
    "\n",
    "asnwerDate_data = [(1,'MES 1'), (2,'MES 2'),(3,'MES 3')]\n",
    "asnwerDate_data = pd.DataFrame(asnwerDate_data, columns=['Key', 'Value'])\n",
    "asnwerDate_data.to_csv('./Data/asnwerDateData.csv', index=False)\n",
    "\n",
    "month_data = [(1,'January'), (2,'February'),(3,'March')]\n",
    "month_data = pd.DataFrame(month_data, columns=['Key', 'Value'])\n",
    "month_data.to_csv('./Data/monthData.csv', index=False)\n",
    "\n",
    "NPS_data = [(0,'Detractor'),(1,'Detractor'),(2,'Detractor'),(3,'Detractor'),(4,'Detractor'),(5,'Detractor'),(6,'Detractor'),(7,'Neutro'),(8,'Neutro'),(9,'Promotor'),(10,'Promotor')]\n",
    "NPS_data = pd.DataFrame(NPS_data, columns=['Key', 'Value'])\n",
    "NPS_data.to_csv('./Data/NPSData.csv', index=False)\n",
    "\n",
    "impactInteraction_data =  [(1,'Disminuyó de manera significativa'),(2,'Disminuyó poco'),(3,'No hubo cambios'),(4,'Aumentó poco'),(5,'Aumentó de manera significativa')]\n",
    "impactInteraction_data = pd.DataFrame(impactInteraction_data, columns=['Key', 'Value'])\n",
    "impactInteraction_data.to_csv('./Data/impactIntData.csv', index=False)\n",
    "\n",
    "surveyType_data = [(1,'Relacional'), (2,'BSC'), (3,'Coverage Team')]\n",
    "surveyType_data = pd.DataFrame(surveyType_data, columns=['Key', 'Value'])\n",
    "surveyType_data.to_csv('./Data/surveyTypeData.csv', index=False)\n",
    "\n",
    "NPS_BSC_data = [(0,'Detractor'),(1,'Detractor'),(2,'Detractor'),(3,'Detractor'),(4,'Detractor'),(5,'Detractor'),(6,'Detractor'),(7,'Neutro'),(8,'Neutro'),(9,'Promotor'),(10,'Promotor')]\n",
    "NPS_BSC_data = pd.DataFrame(NPS_BSC_data, columns=['Key', 'Value'])\n",
    "NPS_BSC_data.to_csv('./Data/NPSBSCData.csv', index=False)\n",
    "\n",
    "impactInteraction_data = [(1,'Disminuyó de manera significativa'),(2,'Disminuyó poco'),(3,'No hubo cambios'),(4,'Aumentó poco'),(5,'Aumentó de manera significativa')]\n",
    "impactInteraction_data = pd.DataFrame(impactInteraction_data, columns=['Key', 'Value'])\n",
    "impactInteraction_data.to_csv('./Data/impactInteractionData.csv', index=False)\n",
    "\n",
    "NPS_Coverage_Team_data = [(0,'Detractor'),(1,'Detractor'),(2,'Detractor'),(3,'Detractor'),(4,'Detractor'),(5,'Detractor'),(6,'Detractor'),(7,'Neutro'),(8,'Neutro'),(9,'Promotor'),(10,'Promotor')]\n",
    "NPS_Coverage_Team_data = pd.DataFrame(NPS_Coverage_Team_data, columns=['Key', 'Value'])\n",
    "NPS_Coverage_Team_data.to_csv('./Data/NPSCoverData.csv', index=False)\n",
    "\n",
    "impactLastInteraction_data = [(1,'Disminuyó de manera significativa'),(2,'Disminuyó poco'),(3,'No hubo cambios'),(4,'Aumentó poco'),(5,'Aumentó de manera significativa')]\n",
    "impactLastInteraction_data = pd.DataFrame(impactLastInteraction_data, columns=['Key', 'Value'])\n",
    "impactLastInteraction_data.to_csv('./Data/impactLastInterData.csv', index=False)\n",
    "\n",
    "Nps_rel_data = [(0,'Detractor'),(1,'Detractor'),(2,'Detractor'),(3,'Detractor'),(4,'Detractor'),(5,'Detractor'),(6,'Detractor'),(7,'Neutro'),(8,'Neutro'),(9,'Promotor'),(10,'Promotor')]\n",
    "Nps_rel_data = pd.DataFrame(Nps_rel_data, columns=['Key', 'Value'])\n",
    "Nps_rel_data.to_csv('./Data/NPSRelData.csv', index=False)\n",
    "\n",
    "expectedBusiness_data =  [(1,'Aumente'), (2,'Se mantenga'),(3,'Disminuya')]\n",
    "expectedBusiness_data = pd.DataFrame(expectedBusiness_data, columns=['Key', 'Value'])\n",
    "expectedBusiness_data.to_csv('./Data/expectedBusinessData.csv', index=False)\n",
    "\n",
    "\n",
    "propName_data = [(0,'Onboarding'), (1,'Uso')]\n",
    "propName_data = pd.DataFrame(propName_data, columns=['Key', 'Value'])\n",
    "propName_data.to_csv('./Data/propNameData.csv', index=False)\n",
    "\n",
    "interactionDate_data =  [(1,'MES 1'), (2,'MES 2'),(3,'MES 3')]\n",
    "interactionDate_data = pd.DataFrame(interactionDate_data, columns=['Key', 'Value'])\n",
    "interactionDate_data.to_csv('./Data/interacDateData.csv', index=False)\n",
    "\n",
    "credit_segment_data = [(1,'Segmento 1'), (2,'Preferente'), (3,'Segmento 3'), (4,'PREMIUM')]\n",
    "credit_segment_data = pd.DataFrame(credit_segment_data, columns=['Key', 'Value'])\n",
    "credit_segment_data.to_csv('./Data/CreditsegmentData.csv', index=False)\n"
   ]
  },
  {
   "cell_type": "markdown",
   "metadata": {},
   "source": [
    "## Data Transformation"
   ]
  },
  {
   "cell_type": "markdown",
   "metadata": {},
   "source": [
    "#### Dictionaries"
   ]
  },
  {
   "cell_type": "code",
   "execution_count": 13,
   "metadata": {},
   "outputs": [],
   "source": [
    "# Determine dictionaries to replace the information in the original datasets\n",
    "segment_dict = {'Segmento 1':1, 'Segmento 2':2, 'Segmento 3':3}\n",
    "\n",
    "asnwerDate_dict = {'MES 1':1,'MES 2':2,'MES 3':3}\n",
    "\n",
    "interactionDate_dict = asnwerDate_dict \n",
    "\n",
    "NPS_dict = {'Detractor':0,'Detractor':1,'Detractor':2,'Detractor':3,'Detractor':4,'Detractor':5,'Detractor':6,'Neutro':7,'Neutro':8,'Promotor':9,'Promotor':10}\n",
    "\n",
    "NPS_BSC_dict = NPS_dict\n",
    "\n",
    "NPS_Coverage_Team_dict = NPS_dict\n",
    "\n",
    "Nps_rel_dict = NPS_dict\n",
    "\n",
    "impactInteraction_dict =  {'Disminuyó de manera significativa':1,'Disminuyó poco':2,'No hubo cambios':3,'Aumentó poco':4,'Aumentó de manera significativa':5}\n",
    "\n",
    "impactLastInteraction_dict = impactInteraction_dict\n",
    "\n",
    "surveyType_dict = {'Relacional':1, 'BSC':2, 'Coverage Team':3}\n",
    "\n",
    "\n",
    "expectedBusiness_dict =  {'Aumente':1, 'Se mantenga':2,'Disminuya':3}\n",
    "\n",
    "\n",
    "propName_dict = {'Onboarding':0, 'Uso':1}\n",
    "\n",
    "credit_segment_dict = {'Segmento 1':1, 'Preferente':2, 'Segmento 3':3, 'PREMIUM':4}\n",
    "\n"
   ]
  },
  {
   "cell_type": "markdown",
   "metadata": {},
   "source": [
    "#### 1. Branches"
   ]
  },
  {
   "cell_type": "code",
   "execution_count": 15,
   "metadata": {},
   "outputs": [],
   "source": [
    "df_branchesBI = df_branches"
   ]
  },
  {
   "cell_type": "code",
   "execution_count": 16,
   "metadata": {},
   "outputs": [
    {
     "data": {
      "text/html": [
       "<div>\n",
       "<style scoped>\n",
       "    .dataframe tbody tr th:only-of-type {\n",
       "        vertical-align: middle;\n",
       "    }\n",
       "\n",
       "    .dataframe tbody tr th {\n",
       "        vertical-align: top;\n",
       "    }\n",
       "\n",
       "    .dataframe thead th {\n",
       "        text-align: right;\n",
       "    }\n",
       "</style>\n",
       "<table border=\"1\" class=\"dataframe\">\n",
       "  <thead>\n",
       "    <tr style=\"text-align: right;\">\n",
       "      <th></th>\n",
       "      <th>segment</th>\n",
       "      <th>answerDate</th>\n",
       "      <th>NPS</th>\n",
       "      <th>impactInteraction</th>\n",
       "      <th>reason</th>\n",
       "      <th>improvement</th>\n",
       "    </tr>\n",
       "  </thead>\n",
       "  <tbody>\n",
       "    <tr>\n",
       "      <th>0</th>\n",
       "      <td>1</td>\n",
       "      <td>1</td>\n",
       "      <td>0</td>\n",
       "      <td>3</td>\n",
       "      <td>Porque el banco no respalda a sus clientes y t...</td>\n",
       "      <td>Es un banco ineficiente</td>\n",
       "    </tr>\n",
       "    <tr>\n",
       "      <th>1</th>\n",
       "      <td>1</td>\n",
       "      <td>2</td>\n",
       "      <td>5</td>\n",
       "      <td>2</td>\n",
       "      <td>No sé soluciono el problema</td>\n",
       "      <td>Más oficinas</td>\n",
       "    </tr>\n",
       "  </tbody>\n",
       "</table>\n",
       "</div>"
      ],
      "text/plain": [
       "   segment  answerDate  NPS  impactInteraction  \\\n",
       "0        1           1    0                  3   \n",
       "1        1           2    5                  2   \n",
       "\n",
       "                                              reason              improvement  \n",
       "0  Porque el banco no respalda a sus clientes y t...  Es un banco ineficiente  \n",
       "1                        No sé soluciono el problema             Más oficinas  "
      ]
     },
     "execution_count": 16,
     "metadata": {},
     "output_type": "execute_result"
    }
   ],
   "source": [
    "# Replace the values in the variables to connect the information to the relational datasets created before.\n",
    "df_branchesBI.segment = df_branchesBI.segment.replace(segment_dict)\n",
    "df_branchesBI.answerDate = df_branchesBI.answerDate.replace(asnwerDate_dict)\n",
    "df_branchesBI.NPS = df_branchesBI.NPS.replace(NPS_dict)\n",
    "df_branchesBI.impactInteraction = df_branchesBI.impactInteraction.replace(impactInteraction_dict)\n",
    "df_branchesBI.head(2)"
   ]
  },
  {
   "cell_type": "code",
   "execution_count": 17,
   "metadata": {},
   "outputs": [],
   "source": [
    "df_contactBI = df_contac_center"
   ]
  },
  {
   "cell_type": "code",
   "execution_count": 18,
   "metadata": {},
   "outputs": [
    {
     "data": {
      "text/html": [
       "<div>\n",
       "<style scoped>\n",
       "    .dataframe tbody tr th:only-of-type {\n",
       "        vertical-align: middle;\n",
       "    }\n",
       "\n",
       "    .dataframe tbody tr th {\n",
       "        vertical-align: top;\n",
       "    }\n",
       "\n",
       "    .dataframe thead th {\n",
       "        text-align: right;\n",
       "    }\n",
       "</style>\n",
       "<table border=\"1\" class=\"dataframe\">\n",
       "  <thead>\n",
       "    <tr style=\"text-align: right;\">\n",
       "      <th></th>\n",
       "      <th>segment</th>\n",
       "      <th>answerDate</th>\n",
       "      <th>NPS</th>\n",
       "      <th>impactInteraction</th>\n",
       "      <th>reason</th>\n",
       "      <th>improvement</th>\n",
       "    </tr>\n",
       "  </thead>\n",
       "  <tbody>\n",
       "    <tr>\n",
       "      <th>0</th>\n",
       "      <td>1</td>\n",
       "      <td>2</td>\n",
       "      <td>0</td>\n",
       "      <td>5</td>\n",
       "      <td>Me ofrecieron beneficios que no eran ciertos, ...</td>\n",
       "      <td>No quiero volver a tener ninguna relación con ...</td>\n",
       "    </tr>\n",
       "    <tr>\n",
       "      <th>1</th>\n",
       "      <td>1</td>\n",
       "      <td>3</td>\n",
       "      <td>3</td>\n",
       "      <td>1</td>\n",
       "      <td>Atención supremamente demorada, en la anterior...</td>\n",
       "      <td>No creo necesario me vuelvan a atender.</td>\n",
       "    </tr>\n",
       "  </tbody>\n",
       "</table>\n",
       "</div>"
      ],
      "text/plain": [
       "   segment  answerDate  NPS  impactInteraction  \\\n",
       "0        1           2    0                  5   \n",
       "1        1           3    3                  1   \n",
       "\n",
       "                                              reason  \\\n",
       "0  Me ofrecieron beneficios que no eran ciertos, ...   \n",
       "1  Atención supremamente demorada, en la anterior...   \n",
       "\n",
       "                                         improvement  \n",
       "0  No quiero volver a tener ninguna relación con ...  \n",
       "1            No creo necesario me vuelvan a atender.  "
      ]
     },
     "execution_count": 18,
     "metadata": {},
     "output_type": "execute_result"
    }
   ],
   "source": [
    "# Replace the values in the variables to connect the information to the relational datasets created before.\n",
    "df_contactBI.segment = df_contactBI.segment.replace(segment_dict)\n",
    "df_contactBI.answerDate = df_contactBI.answerDate.replace(asnwerDate_dict)\n",
    "df_contactBI.NPS = df_contactBI.NPS.replace(NPS_dict)\n",
    "df_contactBI.impactInteraction = df_contactBI.impactInteraction.replace(impactInteraction_dict).astype('int')\n",
    "df_contactBI.head(2)"
   ]
  },
  {
   "cell_type": "code",
   "execution_count": 19,
   "metadata": {},
   "outputs": [],
   "source": [
    "df_digital_channelBI = df_digital_channel"
   ]
  },
  {
   "cell_type": "code",
   "execution_count": 20,
   "metadata": {},
   "outputs": [
    {
     "data": {
      "text/html": [
       "<div>\n",
       "<style scoped>\n",
       "    .dataframe tbody tr th:only-of-type {\n",
       "        vertical-align: middle;\n",
       "    }\n",
       "\n",
       "    .dataframe tbody tr th {\n",
       "        vertical-align: top;\n",
       "    }\n",
       "\n",
       "    .dataframe thead th {\n",
       "        text-align: right;\n",
       "    }\n",
       "</style>\n",
       "<table border=\"1\" class=\"dataframe\">\n",
       "  <thead>\n",
       "    <tr style=\"text-align: right;\">\n",
       "      <th></th>\n",
       "      <th>segment</th>\n",
       "      <th>answerDate</th>\n",
       "      <th>NPS</th>\n",
       "      <th>impactInteraction</th>\n",
       "      <th>reason</th>\n",
       "      <th>improvement</th>\n",
       "    </tr>\n",
       "  </thead>\n",
       "  <tbody>\n",
       "    <tr>\n",
       "      <th>0</th>\n",
       "      <td>2</td>\n",
       "      <td>1</td>\n",
       "      <td>0</td>\n",
       "      <td>3</td>\n",
       "      <td>Porque no quiero hacer nada con ustedes. Solo ...</td>\n",
       "      <td>Nada</td>\n",
       "    </tr>\n",
       "    <tr>\n",
       "      <th>1</th>\n",
       "      <td>1</td>\n",
       "      <td>2</td>\n",
       "      <td>4</td>\n",
       "      <td>2</td>\n",
       "      <td>Siempre que quiero mirar mis transacciones de ...</td>\n",
       "      <td>Mejorar la información de transacciones de la app</td>\n",
       "    </tr>\n",
       "  </tbody>\n",
       "</table>\n",
       "</div>"
      ],
      "text/plain": [
       "   segment  answerDate  NPS  impactInteraction  \\\n",
       "0        2           1    0                  3   \n",
       "1        1           2    4                  2   \n",
       "\n",
       "                                              reason  \\\n",
       "0  Porque no quiero hacer nada con ustedes. Solo ...   \n",
       "1  Siempre que quiero mirar mis transacciones de ...   \n",
       "\n",
       "                                         improvement  \n",
       "0                                               Nada  \n",
       "1  Mejorar la información de transacciones de la app  "
      ]
     },
     "execution_count": 20,
     "metadata": {},
     "output_type": "execute_result"
    }
   ],
   "source": [
    "# Replace the values in the variables to connect the information to the relational datasets created before.\n",
    "df_digital_channelBI.segment = df_digital_channelBI.segment.replace(segment_dict)\n",
    "df_digital_channelBI.answerDate = df_digital_channelBI.answerDate.replace(asnwerDate_dict)\n",
    "df_digital_channelBI.NPS = df_digital_channelBI.NPS.replace(NPS_dict)\n",
    "df_digital_channelBI.impactInteraction = df_digital_channelBI.impactInteraction.replace(impactInteraction_dict).astype('int')\n",
    "df_digital_channelBI.head(2)"
   ]
  },
  {
   "cell_type": "code",
   "execution_count": 21,
   "metadata": {},
   "outputs": [],
   "source": [
    "df_b2bBI = df_b2b"
   ]
  },
  {
   "cell_type": "code",
   "execution_count": 22,
   "metadata": {},
   "outputs": [
    {
     "data": {
      "text/html": [
       "<div>\n",
       "<style scoped>\n",
       "    .dataframe tbody tr th:only-of-type {\n",
       "        vertical-align: middle;\n",
       "    }\n",
       "\n",
       "    .dataframe tbody tr th {\n",
       "        vertical-align: top;\n",
       "    }\n",
       "\n",
       "    .dataframe thead th {\n",
       "        text-align: right;\n",
       "    }\n",
       "</style>\n",
       "<table border=\"1\" class=\"dataframe\">\n",
       "  <thead>\n",
       "    <tr style=\"text-align: right;\">\n",
       "      <th></th>\n",
       "      <th>answerDate</th>\n",
       "      <th>surveyType</th>\n",
       "      <th>NPS_BSC</th>\n",
       "      <th>impactInteraction</th>\n",
       "      <th>reason</th>\n",
       "      <th>improvement</th>\n",
       "      <th>NPS_Coverage_Team</th>\n",
       "      <th>impactLastInteraction</th>\n",
       "      <th>reasonLastInteraction</th>\n",
       "      <th>improvementLastInteraction</th>\n",
       "      <th>Nps_rel</th>\n",
       "      <th>PDR</th>\n",
       "      <th>expectedBusiness</th>\n",
       "      <th>commRelation</th>\n",
       "      <th>commFactor</th>\n",
       "      <th>commOther</th>\n",
       "    </tr>\n",
       "  </thead>\n",
       "  <tbody>\n",
       "    <tr>\n",
       "      <th>0</th>\n",
       "      <td>1</td>\n",
       "      <td>1</td>\n",
       "      <td>NaN</td>\n",
       "      <td>NaN</td>\n",
       "      <td>NaN</td>\n",
       "      <td>NaN</td>\n",
       "      <td>NaN</td>\n",
       "      <td>NaN</td>\n",
       "      <td>NaN</td>\n",
       "      <td>NaN</td>\n",
       "      <td>10.0</td>\n",
       "      <td>Excelente servicio</td>\n",
       "      <td>1.0</td>\n",
       "      <td>El Servício recibido es excelente</td>\n",
       "      <td>Excelente experiencia</td>\n",
       "      <td>No gracias</td>\n",
       "    </tr>\n",
       "    <tr>\n",
       "      <th>1</th>\n",
       "      <td>1</td>\n",
       "      <td>1</td>\n",
       "      <td>NaN</td>\n",
       "      <td>NaN</td>\n",
       "      <td>NaN</td>\n",
       "      <td>NaN</td>\n",
       "      <td>NaN</td>\n",
       "      <td>NaN</td>\n",
       "      <td>NaN</td>\n",
       "      <td>NaN</td>\n",
       "      <td>7.0</td>\n",
       "      <td>Mi opinión va mas afocado a la parte operativa...</td>\n",
       "      <td>2.0</td>\n",
       "      <td>NaN</td>\n",
       "      <td>NaN</td>\n",
       "      <td>NaN</td>\n",
       "    </tr>\n",
       "  </tbody>\n",
       "</table>\n",
       "</div>"
      ],
      "text/plain": [
       "   answerDate  surveyType  NPS_BSC  impactInteraction reason improvement  \\\n",
       "0           1           1      NaN                NaN    NaN         NaN   \n",
       "1           1           1      NaN                NaN    NaN         NaN   \n",
       "\n",
       "   NPS_Coverage_Team  impactLastInteraction reasonLastInteraction  \\\n",
       "0                NaN                    NaN                   NaN   \n",
       "1                NaN                    NaN                   NaN   \n",
       "\n",
       "  improvementLastInteraction  Nps_rel  \\\n",
       "0                        NaN     10.0   \n",
       "1                        NaN      7.0   \n",
       "\n",
       "                                                 PDR  expectedBusiness  \\\n",
       "0                                 Excelente servicio               1.0   \n",
       "1  Mi opinión va mas afocado a la parte operativa...               2.0   \n",
       "\n",
       "                        commRelation             commFactor   commOther  \n",
       "0  El Servício recibido es excelente  Excelente experiencia  No gracias  \n",
       "1                                NaN                    NaN         NaN  "
      ]
     },
     "execution_count": 22,
     "metadata": {},
     "output_type": "execute_result"
    }
   ],
   "source": [
    "# Replace the values in the variables to connect the information to the relational datasets created before.\n",
    "df_b2bBI.answerDate = df_b2bBI.answerDate.replace(asnwerDate_dict)\n",
    "df_b2bBI.surveyType = df_b2bBI.surveyType.replace(surveyType_dict)\n",
    "df_b2bBI.NPS_BSC = df_b2bBI.NPS_BSC.replace(NPS_dict)\n",
    "df_b2bBI.NPS_Coverage_Team = df_b2bBI.NPS_Coverage_Team.replace(NPS_dict)\n",
    "df_b2bBI.Nps_rel = df_b2bBI.Nps_rel.replace(NPS_dict)\n",
    "df_b2bBI.impactInteraction = df_b2bBI.impactInteraction.replace(impactInteraction_dict)\n",
    "df_b2bBI.impactLastInteraction = df_b2bBI.impactLastInteraction.replace(impactInteraction_dict)\n",
    "df_b2bBI.expectedBusiness = df_b2bBI.expectedBusiness.replace(expectedBusiness_dict)\n",
    "df_b2bBI.head(2)"
   ]
  },
  {
   "cell_type": "code",
   "execution_count": 23,
   "metadata": {},
   "outputs": [],
   "source": [
    "df_credit_cardBI = df_credit_card"
   ]
  },
  {
   "cell_type": "code",
   "execution_count": 24,
   "metadata": {},
   "outputs": [
    {
     "data": {
      "text/html": [
       "<div>\n",
       "<style scoped>\n",
       "    .dataframe tbody tr th:only-of-type {\n",
       "        vertical-align: middle;\n",
       "    }\n",
       "\n",
       "    .dataframe tbody tr th {\n",
       "        vertical-align: top;\n",
       "    }\n",
       "\n",
       "    .dataframe thead th {\n",
       "        text-align: right;\n",
       "    }\n",
       "</style>\n",
       "<table border=\"1\" class=\"dataframe\">\n",
       "  <thead>\n",
       "    <tr style=\"text-align: right;\">\n",
       "      <th></th>\n",
       "      <th>propName</th>\n",
       "      <th>segment</th>\n",
       "      <th>interactionDate</th>\n",
       "      <th>NPS</th>\n",
       "      <th>reason_Verbatim</th>\n",
       "      <th>improvement</th>\n",
       "    </tr>\n",
       "  </thead>\n",
       "  <tbody>\n",
       "    <tr>\n",
       "      <th>0</th>\n",
       "      <td>0</td>\n",
       "      <td>1</td>\n",
       "      <td>1</td>\n",
       "      <td>0</td>\n",
       "      <td>No he solicitado ningún producto con ustedes. ...</td>\n",
       "      <td>NaN</td>\n",
       "    </tr>\n",
       "    <tr>\n",
       "      <th>1</th>\n",
       "      <td>1</td>\n",
       "      <td>1</td>\n",
       "      <td>2</td>\n",
       "      <td>0</td>\n",
       "      <td>Cada uno decide si se endeuda o no</td>\n",
       "      <td>Más claridad en el cobro de los intereses y qu...</td>\n",
       "    </tr>\n",
       "  </tbody>\n",
       "</table>\n",
       "</div>"
      ],
      "text/plain": [
       "   propName  segment  interactionDate  NPS  \\\n",
       "0         0        1                1    0   \n",
       "1         1        1                2    0   \n",
       "\n",
       "                                    reason_Verbatim   \\\n",
       "0  No he solicitado ningún producto con ustedes. ...   \n",
       "1                 Cada uno decide si se endeuda o no   \n",
       "\n",
       "                                         improvement  \n",
       "0                                                NaN  \n",
       "1  Más claridad en el cobro de los intereses y qu...  "
      ]
     },
     "execution_count": 24,
     "metadata": {},
     "output_type": "execute_result"
    }
   ],
   "source": [
    "# Replace the values in the variables to connect the information to the relational datasets created before.\n",
    "df_credit_cardBI.propName = df_credit_cardBI.propName.replace(propName_dict)\n",
    "df_credit_cardBI.segment = df_credit_cardBI.segment.replace(credit_segment_dict)\n",
    "df_credit_cardBI.NPS = df_credit_cardBI.NPS.replace(NPS_dict)\n",
    "df_credit_cardBI.interactionDate = df_credit_cardBI.interactionDate.replace(asnwerDate_dict)\n",
    "df_credit_cardBI.head(2)"
   ]
  },
  {
   "cell_type": "code",
   "execution_count": 25,
   "metadata": {},
   "outputs": [],
   "source": [
    "# Create de datasets to PowerBI\n",
    "df_branchesBI.to_csv(\"./Data/branchesBI.csv\", index=False, header=True)\n",
    "df_contactBI.to_csv(\"./Data/contacCenterBI.csv\", index=False, header=True)\n",
    "df_digital_channelBI.to_csv(\"./Data/digitalChannelBI.csv\",index=False, header=True)\n",
    "df_b2bBI.to_csv(\"./Data/b2bBI.csv\", index=False, header=True)\n",
    "df_credit_cardBI.to_csv(\"./Data/creditCardBI.csv\", index=False, header=True)"
   ]
  }
 ],
 "metadata": {
  "kernelspec": {
   "display_name": "Python 3",
   "language": "python",
   "name": "python3"
  },
  "language_info": {
   "codemirror_mode": {
    "name": "ipython",
    "version": 3
   },
   "file_extension": ".py",
   "mimetype": "text/x-python",
   "name": "python",
   "nbconvert_exporter": "python",
   "pygments_lexer": "ipython3",
   "version": "3.12.0"
  }
 },
 "nbformat": 4,
 "nbformat_minor": 2
}
