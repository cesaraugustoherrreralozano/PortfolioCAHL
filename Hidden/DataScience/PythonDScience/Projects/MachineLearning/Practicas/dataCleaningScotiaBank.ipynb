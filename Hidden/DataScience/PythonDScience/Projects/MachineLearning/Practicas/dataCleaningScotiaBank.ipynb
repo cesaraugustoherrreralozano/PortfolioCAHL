{
 "cells": [
  {
   "cell_type": "markdown",
   "metadata": {},
   "source": [
    "# Data Cleanning"
   ]
  },
  {
   "cell_type": "markdown",
   "metadata": {},
   "source": [
    "Tabla de contenido"
   ]
  },
  {
   "cell_type": "code",
   "execution_count": 86,
   "metadata": {},
   "outputs": [],
   "source": [
    "# Import Libraries\n",
    "import numpy as np \n",
    "import pandas as pd "
   ]
  },
  {
   "cell_type": "markdown",
   "metadata": {},
   "source": [
    "Data Exploratory"
   ]
  },
  {
   "cell_type": "code",
   "execution_count": 87,
   "metadata": {},
   "outputs": [],
   "source": [
    "# File location\n",
    "file = \"./Data/Base_Assestment_v2.xlsx\"\n",
    "\n",
    "# Channels\n",
    "# Load Banches DataFrame\n",
    "df_branches = pd.read_excel(file,sheet_name=\"Sucursales\")\n",
    "\n",
    "# Load Contac Center DataFrame\n",
    "df_contact_center = pd.read_excel(file,sheet_name=\"Contac Center\")\n",
    "\n",
    "# Load Digital Channel DataFrame\n",
    "df_digital_channel = pd.read_excel(file,sheet_name=\"Canal Digital\")\n",
    "\n",
    "# Programs\n",
    "# Load B2B DataFrame\n",
    "df_B2B = pd.read_excel(file,sheet_name=\"B2B\")\n",
    "\n",
    "# Load Credit Card DataFrame\n",
    "df_credit_card = pd.read_excel(file,sheet_name=\"Tarjeta de credito\")"
   ]
  },
  {
   "cell_type": "markdown",
   "metadata": {},
   "source": [
    "### Channel Analysis"
   ]
  },
  {
   "cell_type": "markdown",
   "metadata": {},
   "source": [
    "#### 1. Branches"
   ]
  },
  {
   "cell_type": "code",
   "execution_count": 88,
   "metadata": {},
   "outputs": [
    {
     "data": {
      "text/html": [
       "<div>\n",
       "<style scoped>\n",
       "    .dataframe tbody tr th:only-of-type {\n",
       "        vertical-align: middle;\n",
       "    }\n",
       "\n",
       "    .dataframe tbody tr th {\n",
       "        vertical-align: top;\n",
       "    }\n",
       "\n",
       "    .dataframe thead th {\n",
       "        text-align: right;\n",
       "    }\n",
       "</style>\n",
       "<table border=\"1\" class=\"dataframe\">\n",
       "  <thead>\n",
       "    <tr style=\"text-align: right;\">\n",
       "      <th></th>\n",
       "      <th>Todos segmentos</th>\n",
       "      <th>Fecha de Respuesta (EST)</th>\n",
       "      <th>NPS</th>\n",
       "      <th>Impacto de Interacción Reciente</th>\n",
       "      <th>¿Por qué?</th>\n",
       "      <th>¿Qué podemos hacer para atenderte mejor?</th>\n",
       "    </tr>\n",
       "  </thead>\n",
       "  <tbody>\n",
       "    <tr>\n",
       "      <th>0</th>\n",
       "      <td>Segmento 1</td>\n",
       "      <td>MES 1</td>\n",
       "      <td>0</td>\n",
       "      <td>3</td>\n",
       "      <td>Porque el banco no respalda a sus clientes y t...</td>\n",
       "      <td>Es un banco ineficiente</td>\n",
       "    </tr>\n",
       "    <tr>\n",
       "      <th>1</th>\n",
       "      <td>Segmento 1</td>\n",
       "      <td>MES 2</td>\n",
       "      <td>5</td>\n",
       "      <td>2</td>\n",
       "      <td>No sé soluciono el problema</td>\n",
       "      <td>Más oficinas</td>\n",
       "    </tr>\n",
       "  </tbody>\n",
       "</table>\n",
       "</div>"
      ],
      "text/plain": [
       "  Todos segmentos Fecha de Respuesta (EST)  NPS  \\\n",
       "0      Segmento 1                    MES 1    0   \n",
       "1      Segmento 1                    MES 2    5   \n",
       "\n",
       "   Impacto de Interacción Reciente  \\\n",
       "0                                3   \n",
       "1                                2   \n",
       "\n",
       "                                           ¿Por qué?  \\\n",
       "0  Porque el banco no respalda a sus clientes y t...   \n",
       "1                        No sé soluciono el problema   \n",
       "\n",
       "  ¿Qué podemos hacer para atenderte mejor?  \n",
       "0                  Es un banco ineficiente  \n",
       "1                             Más oficinas  "
      ]
     },
     "execution_count": 88,
     "metadata": {},
     "output_type": "execute_result"
    }
   ],
   "source": [
    "# first glance to dataset\n",
    "df_branches.head(2)"
   ]
  },
  {
   "cell_type": "code",
   "execution_count": 89,
   "metadata": {},
   "outputs": [
    {
     "name": "stdout",
     "output_type": "stream",
     "text": [
      "<class 'pandas.core.frame.DataFrame'>\n",
      "RangeIndex: 999 entries, 0 to 998\n",
      "Data columns (total 6 columns):\n",
      " #   Column                                    Non-Null Count  Dtype \n",
      "---  ------                                    --------------  ----- \n",
      " 0   Todos segmentos                           993 non-null    object\n",
      " 1   Fecha de Respuesta (EST)                  999 non-null    object\n",
      " 2   NPS                                       999 non-null    int64 \n",
      " 3   Impacto de Interacción Reciente           999 non-null    int64 \n",
      " 4   ¿Por qué?                                 987 non-null    object\n",
      " 5   ¿Qué podemos hacer para atenderte mejor?  790 non-null    object\n",
      "dtypes: int64(2), object(4)\n",
      "memory usage: 47.0+ KB\n"
     ]
    }
   ],
   "source": [
    "# Get the information about the dataset related with Dtypes, number of columns and number of rows.\n",
    "df_branches.info()"
   ]
  },
  {
   "cell_type": "code",
   "execution_count": 90,
   "metadata": {},
   "outputs": [
    {
     "data": {
      "text/plain": [
       "Index(['segment', 'answerDate', 'NPS', 'impactInteraction', 'reason',\n",
       "       'improvement'],\n",
       "      dtype='object')"
      ]
     },
     "execution_count": 90,
     "metadata": {},
     "output_type": "execute_result"
    }
   ],
   "source": [
    "# Change the columns names to avoid problems with the names\n",
    "segment_colums = ['segment','answerDate','NPS','impactInteraction','reason','improvement']\n",
    "df_branches.columns = segment_colums\n",
    "df_branches.columns"
   ]
  },
  {
   "cell_type": "code",
   "execution_count": 91,
   "metadata": {},
   "outputs": [
    {
     "data": {
      "text/plain": [
       "segment                6\n",
       "answerDate             0\n",
       "NPS                    0\n",
       "impactInteraction      0\n",
       "reason                12\n",
       "improvement          209\n",
       "dtype: int64"
      ]
     },
     "execution_count": 91,
     "metadata": {},
     "output_type": "execute_result"
    }
   ],
   "source": [
    "# Evaluate missing values\n",
    "missing_data_branches = df_branches.isnull().sum()\n",
    "missing_data_branches"
   ]
  },
  {
   "cell_type": "code",
   "execution_count": 92,
   "metadata": {},
   "outputs": [],
   "source": [
    "# Here I decide to drop the missing values of segment column because I can not replace the null values\n",
    "# with the most common features of the variable\n",
    "df_branches= df_branches.dropna(subset=\"segment\")"
   ]
  },
  {
   "cell_type": "code",
   "execution_count": 93,
   "metadata": {},
   "outputs": [
    {
     "data": {
      "text/plain": [
       "segment                0\n",
       "answerDate             0\n",
       "NPS                    0\n",
       "impactInteraction      0\n",
       "reason                12\n",
       "improvement          208\n",
       "dtype: int64"
      ]
     },
     "execution_count": 93,
     "metadata": {},
     "output_type": "execute_result"
    }
   ],
   "source": [
    "# Review the information without missing values in segment columns\n",
    "df_branches.isnull().sum()"
   ]
  },
  {
   "cell_type": "code",
   "execution_count": 94,
   "metadata": {},
   "outputs": [],
   "source": [
    "# Reset index\n",
    "df_branches = df_branches.reset_index()"
   ]
  },
  {
   "cell_type": "code",
   "execution_count": 95,
   "metadata": {},
   "outputs": [
    {
     "name": "stdout",
     "output_type": "stream",
     "text": [
      "<class 'pandas.core.frame.DataFrame'>\n",
      "RangeIndex: 993 entries, 0 to 992\n",
      "Data columns (total 7 columns):\n",
      " #   Column             Non-Null Count  Dtype \n",
      "---  ------             --------------  ----- \n",
      " 0   index              993 non-null    int64 \n",
      " 1   segment            993 non-null    object\n",
      " 2   answerDate         993 non-null    object\n",
      " 3   NPS                993 non-null    int64 \n",
      " 4   impactInteraction  993 non-null    int64 \n",
      " 5   reason             981 non-null    object\n",
      " 6   improvement        785 non-null    object\n",
      "dtypes: int64(3), object(4)\n",
      "memory usage: 54.4+ KB\n"
     ]
    }
   ],
   "source": [
    "# Review the information dataset without the null values in segment column\n",
    "df_branches.info()"
   ]
  },
  {
   "cell_type": "markdown",
   "metadata": {},
   "source": [
    "#### 2. Contact Center"
   ]
  },
  {
   "cell_type": "code",
   "execution_count": 96,
   "metadata": {},
   "outputs": [
    {
     "data": {
      "text/html": [
       "<div>\n",
       "<style scoped>\n",
       "    .dataframe tbody tr th:only-of-type {\n",
       "        vertical-align: middle;\n",
       "    }\n",
       "\n",
       "    .dataframe tbody tr th {\n",
       "        vertical-align: top;\n",
       "    }\n",
       "\n",
       "    .dataframe thead th {\n",
       "        text-align: right;\n",
       "    }\n",
       "</style>\n",
       "<table border=\"1\" class=\"dataframe\">\n",
       "  <thead>\n",
       "    <tr style=\"text-align: right;\">\n",
       "      <th></th>\n",
       "      <th>Todos segmentos</th>\n",
       "      <th>Fecha de Respuesta (EST)</th>\n",
       "      <th>NPS</th>\n",
       "      <th>Impacto de Interacción Reciente</th>\n",
       "      <th>¿Por qué?</th>\n",
       "      <th>¿Qué podemos hacer para atenderte mejor?</th>\n",
       "    </tr>\n",
       "  </thead>\n",
       "  <tbody>\n",
       "    <tr>\n",
       "      <th>0</th>\n",
       "      <td>Segmento 1</td>\n",
       "      <td>MES 2</td>\n",
       "      <td>0</td>\n",
       "      <td>5.0</td>\n",
       "      <td>Me ofrecieron beneficios que no eran ciertos, ...</td>\n",
       "      <td>No quiero volver a tener ninguna relación con ...</td>\n",
       "    </tr>\n",
       "    <tr>\n",
       "      <th>1</th>\n",
       "      <td>Segmento 1</td>\n",
       "      <td>MES 3</td>\n",
       "      <td>3</td>\n",
       "      <td>1.0</td>\n",
       "      <td>Atención supremamente demorada, en la anterior...</td>\n",
       "      <td>No creo necesario me vuelvan a atender.</td>\n",
       "    </tr>\n",
       "  </tbody>\n",
       "</table>\n",
       "</div>"
      ],
      "text/plain": [
       "  Todos segmentos Fecha de Respuesta (EST)  NPS  \\\n",
       "0      Segmento 1                    MES 2    0   \n",
       "1      Segmento 1                    MES 3    3   \n",
       "\n",
       "   Impacto de Interacción Reciente  \\\n",
       "0                              5.0   \n",
       "1                              1.0   \n",
       "\n",
       "                                           ¿Por qué?  \\\n",
       "0  Me ofrecieron beneficios que no eran ciertos, ...   \n",
       "1  Atención supremamente demorada, en la anterior...   \n",
       "\n",
       "            ¿Qué podemos hacer para atenderte mejor?  \n",
       "0  No quiero volver a tener ninguna relación con ...  \n",
       "1            No creo necesario me vuelvan a atender.  "
      ]
     },
     "execution_count": 96,
     "metadata": {},
     "output_type": "execute_result"
    }
   ],
   "source": [
    "# First glance to datatset\n",
    "df_contact_center.head(2)"
   ]
  },
  {
   "cell_type": "code",
   "execution_count": 97,
   "metadata": {},
   "outputs": [
    {
     "name": "stdout",
     "output_type": "stream",
     "text": [
      "<class 'pandas.core.frame.DataFrame'>\n",
      "RangeIndex: 998 entries, 0 to 997\n",
      "Data columns (total 6 columns):\n",
      " #   Column                                    Non-Null Count  Dtype  \n",
      "---  ------                                    --------------  -----  \n",
      " 0   Todos segmentos                           997 non-null    object \n",
      " 1   Fecha de Respuesta (EST)                  998 non-null    object \n",
      " 2   NPS                                       998 non-null    int64  \n",
      " 3   Impacto de Interacción Reciente           986 non-null    float64\n",
      " 4   ¿Por qué?                                 787 non-null    object \n",
      " 5   ¿Qué podemos hacer para atenderte mejor?  644 non-null    object \n",
      "dtypes: float64(1), int64(1), object(4)\n",
      "memory usage: 46.9+ KB\n"
     ]
    }
   ],
   "source": [
    "## Get the information of dataset related with column types, number of columns, and number of rows.\n",
    "df_contact_center.info()"
   ]
  },
  {
   "cell_type": "code",
   "execution_count": 98,
   "metadata": {},
   "outputs": [
    {
     "data": {
      "text/plain": [
       "Index(['segment', 'answerDate', 'NPS', 'impactInteraction', 'reason',\n",
       "       'improvement'],\n",
       "      dtype='object')"
      ]
     },
     "execution_count": 98,
     "metadata": {},
     "output_type": "execute_result"
    }
   ],
   "source": [
    "# Change the column names to avoid problems with the column names\n",
    "contact_center_columns = ['segment','answerDate','NPS','impactInteraction','reason','improvement']\n",
    "df_contact_center.columns = contact_center_columns\n",
    "df_contact_center.columns"
   ]
  },
  {
   "cell_type": "code",
   "execution_count": 99,
   "metadata": {},
   "outputs": [
    {
     "data": {
      "text/plain": [
       "segment                1\n",
       "answerDate             0\n",
       "NPS                    0\n",
       "impactInteraction     12\n",
       "reason               211\n",
       "improvement          354\n",
       "dtype: int64"
      ]
     },
     "execution_count": 99,
     "metadata": {},
     "output_type": "execute_result"
    }
   ],
   "source": [
    "# Evaluate missing values in dataset\n",
    "missing_data_contact = df_contact_center.isnull().sum()\n",
    "missing_data_contact"
   ]
  },
  {
   "cell_type": "code",
   "execution_count": 100,
   "metadata": {},
   "outputs": [],
   "source": [
    "# Drop missing values in segment column\n",
    "df_contact_center = df_contact_center.dropna(subset='segment')"
   ]
  },
  {
   "cell_type": "code",
   "execution_count": 101,
   "metadata": {},
   "outputs": [
    {
     "name": "stdout",
     "output_type": "stream",
     "text": [
      "Most Common Value for Contact Center: 5.0\n"
     ]
    },
    {
     "data": {
      "text/plain": [
       "segment                0\n",
       "answerDate             0\n",
       "NPS                    0\n",
       "impactInteraction      0\n",
       "reason               211\n",
       "improvement          353\n",
       "dtype: int64"
      ]
     },
     "execution_count": 101,
     "metadata": {},
     "output_type": "execute_result"
    }
   ],
   "source": [
    "# Replace the missing values in impact interaction with most common features\n",
    "common_values_contact = df_contact_center.impactInteraction.value_counts().idxmax()\n",
    "print(f\"Most Common Value for Contact Center: {common_values_contact}\")\n",
    "\n",
    "\n",
    "df_contact_center.impactInteraction.replace(np.nan, common_values_contact, inplace=True)\n",
    "df_contact_center.isnull().sum()\n"
   ]
  },
  {
   "cell_type": "code",
   "execution_count": 102,
   "metadata": {},
   "outputs": [],
   "source": [
    "# Reset index\n",
    "df_contact_center.reset_index(inplace=True)"
   ]
  },
  {
   "cell_type": "code",
   "execution_count": 103,
   "metadata": {},
   "outputs": [
    {
     "name": "stdout",
     "output_type": "stream",
     "text": [
      "<class 'pandas.core.frame.DataFrame'>\n",
      "RangeIndex: 997 entries, 0 to 996\n",
      "Data columns (total 7 columns):\n",
      " #   Column             Non-Null Count  Dtype  \n",
      "---  ------             --------------  -----  \n",
      " 0   index              997 non-null    int64  \n",
      " 1   segment            997 non-null    object \n",
      " 2   answerDate         997 non-null    object \n",
      " 3   NPS                997 non-null    int64  \n",
      " 4   impactInteraction  997 non-null    float64\n",
      " 5   reason             786 non-null    object \n",
      " 6   improvement        644 non-null    object \n",
      "dtypes: float64(1), int64(2), object(4)\n",
      "memory usage: 54.7+ KB\n"
     ]
    }
   ],
   "source": [
    "# Get the information without the missing values in segment and impactInteraction columns\n",
    "df_contact_center.info()"
   ]
  },
  {
   "cell_type": "markdown",
   "metadata": {},
   "source": [
    "#### 3. Digital Channel"
   ]
  },
  {
   "cell_type": "code",
   "execution_count": 104,
   "metadata": {},
   "outputs": [
    {
     "data": {
      "text/html": [
       "<div>\n",
       "<style scoped>\n",
       "    .dataframe tbody tr th:only-of-type {\n",
       "        vertical-align: middle;\n",
       "    }\n",
       "\n",
       "    .dataframe tbody tr th {\n",
       "        vertical-align: top;\n",
       "    }\n",
       "\n",
       "    .dataframe thead th {\n",
       "        text-align: right;\n",
       "    }\n",
       "</style>\n",
       "<table border=\"1\" class=\"dataframe\">\n",
       "  <thead>\n",
       "    <tr style=\"text-align: right;\">\n",
       "      <th></th>\n",
       "      <th>Todos segmentos</th>\n",
       "      <th>Fecha de Respuesta (EST)</th>\n",
       "      <th>NPS</th>\n",
       "      <th>Impacto de Interacción Reciente</th>\n",
       "      <th>¿Por qué?</th>\n",
       "      <th>¿Qué podemos hacer para atenderte mejor?</th>\n",
       "    </tr>\n",
       "  </thead>\n",
       "  <tbody>\n",
       "    <tr>\n",
       "      <th>0</th>\n",
       "      <td>Segmento 2</td>\n",
       "      <td>MES 1</td>\n",
       "      <td>0</td>\n",
       "      <td>3</td>\n",
       "      <td>Porque no quiero hacer nada con ustedes. Solo ...</td>\n",
       "      <td>Nada</td>\n",
       "    </tr>\n",
       "    <tr>\n",
       "      <th>1</th>\n",
       "      <td>Segmento 1</td>\n",
       "      <td>MES 2</td>\n",
       "      <td>4</td>\n",
       "      <td>2</td>\n",
       "      <td>Siempre que quiero mirar mis transacciones de ...</td>\n",
       "      <td>Mejorar la información de transacciones de la app</td>\n",
       "    </tr>\n",
       "  </tbody>\n",
       "</table>\n",
       "</div>"
      ],
      "text/plain": [
       "  Todos segmentos Fecha de Respuesta (EST)  NPS  \\\n",
       "0      Segmento 2                    MES 1    0   \n",
       "1      Segmento 1                    MES 2    4   \n",
       "\n",
       "   Impacto de Interacción Reciente  \\\n",
       "0                                3   \n",
       "1                                2   \n",
       "\n",
       "                                           ¿Por qué?  \\\n",
       "0  Porque no quiero hacer nada con ustedes. Solo ...   \n",
       "1  Siempre que quiero mirar mis transacciones de ...   \n",
       "\n",
       "            ¿Qué podemos hacer para atenderte mejor?  \n",
       "0                                               Nada  \n",
       "1  Mejorar la información de transacciones de la app  "
      ]
     },
     "execution_count": 104,
     "metadata": {},
     "output_type": "execute_result"
    }
   ],
   "source": [
    "# First glance to the dataset\n",
    "df_digital_channel.head(2)"
   ]
  },
  {
   "cell_type": "code",
   "execution_count": 105,
   "metadata": {},
   "outputs": [
    {
     "name": "stdout",
     "output_type": "stream",
     "text": [
      "<class 'pandas.core.frame.DataFrame'>\n",
      "RangeIndex: 999 entries, 0 to 998\n",
      "Data columns (total 6 columns):\n",
      " #   Column                                    Non-Null Count  Dtype \n",
      "---  ------                                    --------------  ----- \n",
      " 0   Todos segmentos                           993 non-null    object\n",
      " 1   Fecha de Respuesta (EST)                  999 non-null    object\n",
      " 2   NPS                                       999 non-null    int64 \n",
      " 3   Impacto de Interacción Reciente           999 non-null    int64 \n",
      " 4   ¿Por qué?                                 787 non-null    object\n",
      " 5   ¿Qué podemos hacer para atenderte mejor?  711 non-null    object\n",
      "dtypes: int64(2), object(4)\n",
      "memory usage: 47.0+ KB\n"
     ]
    }
   ],
   "source": [
    "# Get the information of dataset related with column types, number of columns and number of rows\n",
    "df_digital_channel.info()"
   ]
  },
  {
   "cell_type": "code",
   "execution_count": 106,
   "metadata": {},
   "outputs": [
    {
     "data": {
      "text/plain": [
       "Index(['Todos segmentos', 'Fecha de Respuesta (EST)', 'NPS',\n",
       "       'Impacto de Interacción Reciente', '¿Por qué?',\n",
       "       '¿Qué podemos hacer para atenderte mejor?'],\n",
       "      dtype='object')"
      ]
     },
     "execution_count": 106,
     "metadata": {},
     "output_type": "execute_result"
    }
   ],
   "source": [
    "# Get the columns names\n",
    "\n",
    "df_digital_channel.columns"
   ]
  },
  {
   "cell_type": "code",
   "execution_count": 107,
   "metadata": {},
   "outputs": [
    {
     "data": {
      "text/plain": [
       "Index(['segment', 'answerDate', 'NPS', 'impactInteraction', 'reason',\n",
       "       'improvement'],\n",
       "      dtype='object')"
      ]
     },
     "execution_count": 107,
     "metadata": {},
     "output_type": "execute_result"
    }
   ],
   "source": [
    "# Change columns names to avoid problems with column names\n",
    "digital_columns = ['segment','answerDate','NPS','impactInteraction','reason','improvement']\n",
    "df_digital_channel.columns = digital_columns\n",
    "df_digital_channel.columns"
   ]
  },
  {
   "cell_type": "code",
   "execution_count": 108,
   "metadata": {},
   "outputs": [
    {
     "data": {
      "text/plain": [
       "segment                6\n",
       "answerDate             0\n",
       "NPS                    0\n",
       "impactInteraction      0\n",
       "reason               212\n",
       "improvement          288\n",
       "dtype: int64"
      ]
     },
     "execution_count": 108,
     "metadata": {},
     "output_type": "execute_result"
    }
   ],
   "source": [
    "# Evaluate the missing values in dataset\n",
    "missing_data_digital = df_digital_channel.isnull().sum()\n",
    "missing_data_digital"
   ]
  },
  {
   "cell_type": "code",
   "execution_count": 109,
   "metadata": {},
   "outputs": [
    {
     "name": "stdout",
     "output_type": "stream",
     "text": [
      "<class 'pandas.core.frame.DataFrame'>\n",
      "RangeIndex: 993 entries, 0 to 992\n",
      "Data columns (total 7 columns):\n",
      " #   Column             Non-Null Count  Dtype \n",
      "---  ------             --------------  ----- \n",
      " 0   index              993 non-null    int64 \n",
      " 1   segment            993 non-null    object\n",
      " 2   answerDate         993 non-null    object\n",
      " 3   NPS                993 non-null    int64 \n",
      " 4   impactInteraction  993 non-null    int64 \n",
      " 5   reason             783 non-null    object\n",
      " 6   improvement        707 non-null    object\n",
      "dtypes: int64(3), object(4)\n",
      "memory usage: 54.4+ KB\n"
     ]
    }
   ],
   "source": [
    "# Drop missing values in segment column\n",
    "df_digital_channel = df_digital_channel.dropna(subset='segment')\n",
    "df_digital_channel.reset_index(inplace=True)\n",
    "df_digital_channel.info()"
   ]
  },
  {
   "cell_type": "markdown",
   "metadata": {},
   "source": [
    "#### 4. B2B"
   ]
  },
  {
   "cell_type": "code",
   "execution_count": 110,
   "metadata": {},
   "outputs": [
    {
     "data": {
      "text/html": [
       "<div>\n",
       "<style scoped>\n",
       "    .dataframe tbody tr th:only-of-type {\n",
       "        vertical-align: middle;\n",
       "    }\n",
       "\n",
       "    .dataframe tbody tr th {\n",
       "        vertical-align: top;\n",
       "    }\n",
       "\n",
       "    .dataframe thead th {\n",
       "        text-align: right;\n",
       "    }\n",
       "</style>\n",
       "<table border=\"1\" class=\"dataframe\">\n",
       "  <thead>\n",
       "    <tr style=\"text-align: right;\">\n",
       "      <th></th>\n",
       "      <th>Fecha de respuesta</th>\n",
       "      <th>Tipo de encuesta</th>\n",
       "      <th>NPS BSC</th>\n",
       "      <th>Impacto última interacción</th>\n",
       "      <th>¿Por qué?</th>\n",
       "      <th>¿Qué podemos hacer para servir mejor a tu empresa?</th>\n",
       "      <th>NPS Coverage Team</th>\n",
       "      <th>Impacto última interacción.1</th>\n",
       "      <th>¿Por qué?.1</th>\n",
       "      <th>¿Qué podemos hacer para servir mejor a tu empresa?.1</th>\n",
       "      <th>Nps Relacional</th>\n",
       "      <th>Comentario PDR</th>\n",
       "      <th>Negocio esperado</th>\n",
       "      <th>Comentarios sobre Relación</th>\n",
       "      <th>Comentarios de factores relacionales</th>\n",
       "      <th>Otros comentarios</th>\n",
       "    </tr>\n",
       "  </thead>\n",
       "  <tbody>\n",
       "    <tr>\n",
       "      <th>0</th>\n",
       "      <td>MES 1</td>\n",
       "      <td>Relacional</td>\n",
       "      <td>NaN</td>\n",
       "      <td>NaN</td>\n",
       "      <td>NaN</td>\n",
       "      <td>NaN</td>\n",
       "      <td>NaN</td>\n",
       "      <td>NaN</td>\n",
       "      <td>NaN</td>\n",
       "      <td>NaN</td>\n",
       "      <td>10.0</td>\n",
       "      <td>Excelente servicio</td>\n",
       "      <td>Aumente</td>\n",
       "      <td>El Servício recibido es excelente</td>\n",
       "      <td>Excelente experiencia</td>\n",
       "      <td>No gracias</td>\n",
       "    </tr>\n",
       "    <tr>\n",
       "      <th>1</th>\n",
       "      <td>MES 1</td>\n",
       "      <td>Relacional</td>\n",
       "      <td>NaN</td>\n",
       "      <td>NaN</td>\n",
       "      <td>NaN</td>\n",
       "      <td>NaN</td>\n",
       "      <td>NaN</td>\n",
       "      <td>NaN</td>\n",
       "      <td>NaN</td>\n",
       "      <td>NaN</td>\n",
       "      <td>7.0</td>\n",
       "      <td>Mi opinión va mas afocado a la parte operativa...</td>\n",
       "      <td>Se mantenga</td>\n",
       "      <td>NaN</td>\n",
       "      <td>NaN</td>\n",
       "      <td>NaN</td>\n",
       "    </tr>\n",
       "  </tbody>\n",
       "</table>\n",
       "</div>"
      ],
      "text/plain": [
       "  Fecha de respuesta Tipo de encuesta  NPS BSC Impacto última interacción  \\\n",
       "0              MES 1       Relacional      NaN                        NaN   \n",
       "1              MES 1       Relacional      NaN                        NaN   \n",
       "\n",
       "  ¿Por qué? ¿Qué podemos hacer para servir mejor a tu empresa?  \\\n",
       "0       NaN                                                NaN   \n",
       "1       NaN                                                NaN   \n",
       "\n",
       "   NPS Coverage Team Impacto última interacción.1 ¿Por qué?.1  \\\n",
       "0                NaN                          NaN         NaN   \n",
       "1                NaN                          NaN         NaN   \n",
       "\n",
       "  ¿Qué podemos hacer para servir mejor a tu empresa?.1  Nps Relacional  \\\n",
       "0                                                NaN              10.0   \n",
       "1                                                NaN               7.0   \n",
       "\n",
       "                                      Comentario PDR Negocio esperado  \\\n",
       "0                                 Excelente servicio          Aumente   \n",
       "1  Mi opinión va mas afocado a la parte operativa...      Se mantenga   \n",
       "\n",
       "          Comentarios sobre Relación Comentarios de factores relacionales  \\\n",
       "0  El Servício recibido es excelente                Excelente experiencia   \n",
       "1                                NaN                                  NaN   \n",
       "\n",
       "  Otros comentarios  \n",
       "0        No gracias  \n",
       "1               NaN  "
      ]
     },
     "execution_count": 110,
     "metadata": {},
     "output_type": "execute_result"
    }
   ],
   "source": [
    "# First glance to dataset\n",
    "df_B2B.head(2)"
   ]
  },
  {
   "cell_type": "code",
   "execution_count": 111,
   "metadata": {},
   "outputs": [
    {
     "name": "stdout",
     "output_type": "stream",
     "text": [
      "<class 'pandas.core.frame.DataFrame'>\n",
      "RangeIndex: 925 entries, 0 to 924\n",
      "Data columns (total 16 columns):\n",
      " #   Column                                                Non-Null Count  Dtype  \n",
      "---  ------                                                --------------  -----  \n",
      " 0   Fecha de respuesta                                    925 non-null    object \n",
      " 1   Tipo de encuesta                                      925 non-null    object \n",
      " 2   NPS BSC                                               395 non-null    float64\n",
      " 3   Impacto última interacción                            395 non-null    object \n",
      " 4   ¿Por qué?                                             283 non-null    object \n",
      " 5   ¿Qué podemos hacer para servir mejor a tu empresa?    205 non-null    object \n",
      " 6   NPS Coverage Team                                     72 non-null     float64\n",
      " 7   Impacto última interacción.1                          72 non-null     object \n",
      " 8   ¿Por qué?.1                                           50 non-null     object \n",
      " 9   ¿Qué podemos hacer para servir mejor a tu empresa?.1  38 non-null     object \n",
      " 10  Nps Relacional                                        458 non-null    float64\n",
      " 11  Comentario PDR                                        355 non-null    object \n",
      " 12  Negocio esperado                                      458 non-null    object \n",
      " 13  Comentarios sobre Relación                            329 non-null    object \n",
      " 14  Comentarios de factores relacionales                  218 non-null    object \n",
      " 15  Otros comentarios                                     117 non-null    object \n",
      "dtypes: float64(3), object(13)\n",
      "memory usage: 115.8+ KB\n"
     ]
    }
   ],
   "source": [
    "# Get the information about dataset related with column types, number of columns and number of rows\n",
    "df_B2B.info()"
   ]
  },
  {
   "cell_type": "code",
   "execution_count": 112,
   "metadata": {},
   "outputs": [
    {
     "data": {
      "text/plain": [
       "Index(['Fecha de respuesta', 'Tipo de encuesta', 'NPS BSC',\n",
       "       'Impacto última interacción', '¿Por qué?',\n",
       "       '¿Qué podemos hacer para servir mejor a tu empresa?',\n",
       "       'NPS Coverage Team', 'Impacto última interacción.1', '¿Por qué?.1',\n",
       "       '¿Qué podemos hacer para servir mejor a tu empresa?.1',\n",
       "       'Nps Relacional', 'Comentario PDR', 'Negocio esperado',\n",
       "       'Comentarios sobre Relación', 'Comentarios de factores relacionales',\n",
       "       'Otros comentarios'],\n",
       "      dtype='object')"
      ]
     },
     "execution_count": 112,
     "metadata": {},
     "output_type": "execute_result"
    }
   ],
   "source": [
    "# Get the column names\n",
    "df_B2B.columns"
   ]
  },
  {
   "cell_type": "code",
   "execution_count": 113,
   "metadata": {},
   "outputs": [
    {
     "data": {
      "text/plain": [
       "Index(['answerDate', 'surveyType', 'NPS_BSC', 'impactInteraction', 'reason',\n",
       "       'improvement', 'NPS_Coverage_Team', 'impactLastInteraction',\n",
       "       'reasonLastInteraction', 'improvementLastInteraction', 'Nps_rel', 'PDR',\n",
       "       'expectedBusiness', 'commRelation', 'commFactor', 'commOther'],\n",
       "      dtype='object')"
      ]
     },
     "execution_count": 113,
     "metadata": {},
     "output_type": "execute_result"
    }
   ],
   "source": [
    "# Replace the column names to avoid further problems\n",
    "B2B_columns = ['answerDate', 'surveyType', 'NPS_BSC',\n",
    "       'impactInteraction', 'reason',\n",
    "       'improvement',\n",
    "       'NPS_Coverage_Team', 'impactLastInteraction', 'reasonLastInteraction',\n",
    "       'improvementLastInteraction',\n",
    "       'Nps_rel', 'PDR', 'expectedBusiness',\n",
    "       'commRelation', 'commFactor',\n",
    "       'commOther']\n",
    "df_B2B.columns = B2B_columns\n",
    "df_B2B.columns"
   ]
  },
  {
   "cell_type": "code",
   "execution_count": 114,
   "metadata": {},
   "outputs": [
    {
     "data": {
      "text/plain": [
       "answerDate                      0\n",
       "surveyType                      0\n",
       "NPS_BSC                       530\n",
       "impactInteraction             530\n",
       "reason                        642\n",
       "improvement                   720\n",
       "NPS_Coverage_Team             853\n",
       "impactLastInteraction         853\n",
       "reasonLastInteraction         875\n",
       "improvementLastInteraction    887\n",
       "Nps_rel                       467\n",
       "PDR                           570\n",
       "expectedBusiness              467\n",
       "commRelation                  596\n",
       "commFactor                    707\n",
       "commOther                     808\n",
       "dtype: int64"
      ]
     },
     "execution_count": 114,
     "metadata": {},
     "output_type": "execute_result"
    }
   ],
   "source": [
    "# Evaluate missing values\n",
    "missing_data_b2b = df_B2B.isnull().sum()\n",
    "missing_data_b2b"
   ]
  },
  {
   "cell_type": "code",
   "execution_count": 115,
   "metadata": {},
   "outputs": [
    {
     "name": "stdout",
     "output_type": "stream",
     "text": [
      "NPS_BSC unique value count: NPS_BSC\n",
      "10.0    183\n",
      "9.0      64\n",
      "8.0      46\n",
      "1.0      21\n",
      "0.0      21\n",
      "7.0      19\n",
      "3.0      13\n",
      "5.0      10\n",
      "6.0       7\n",
      "2.0       7\n",
      "4.0       4\n",
      "Name: count, dtype: int64 \n",
      "\n",
      "impactInteraction unique value count: impactInteraction\n",
      "Aumentó de manera significativa      149\n",
      "No hubo cambios                      101\n",
      "Aumentó poco                          79\n",
      "Disminuyó de manera significativa     43\n",
      "Disminuyó poco                        23\n",
      "Name: count, dtype: int64 \n",
      "\n",
      "NPS_Coverage_Team unique value count: NPS_Coverage_Team\n",
      "10.0    40\n",
      "9.0     12\n",
      "8.0      8\n",
      "6.0      3\n",
      "7.0      2\n",
      "4.0      2\n",
      "5.0      1\n",
      "3.0      1\n",
      "0.0      1\n",
      "1.0      1\n",
      "2.0      1\n",
      "Name: count, dtype: int64 \n",
      "\n",
      "impactLastInteraction unique value count: impactLastInteraction\n",
      "Aumentó de manera significativa      32\n",
      "No hubo cambios                      17\n",
      "Aumentó poco                         13\n",
      "Disminuyó poco                        7\n",
      "Disminuyó de manera significativa     3\n",
      "Name: count, dtype: int64 \n",
      "\n",
      "Nps_rel unique value count: Nps_rel\n",
      "10.0    207\n",
      "9.0     103\n",
      "8.0      64\n",
      "7.0      26\n",
      "5.0      14\n",
      "6.0      11\n",
      "3.0      11\n",
      "0.0       9\n",
      "1.0       8\n",
      "4.0       3\n",
      "2.0       2\n",
      "Name: count, dtype: int64 \n",
      "\n",
      "Expected Business unique values count: expectedBusiness\n",
      "Aumente        298\n",
      "Se mantenga    135\n",
      "Disminuya       25\n",
      "Name: count, dtype: int64 \n",
      "\n"
     ]
    }
   ],
   "source": [
    "\n",
    "# Due to the amount of missing values here I try to identify the most common values in variables \n",
    "# to determine if exists common features to replace the missing values in the dataset but \n",
    "# the amount of missing values is very large so I need to apply other process of data cleaning.\n",
    "print(f\"NPS_BSC unique value count: {df_B2B.NPS_BSC.value_counts()} \\n\")     \n",
    "print(f\"impactInteraction unique value count: {df_B2B.impactInteraction.value_counts()} \\n\")\n",
    "#df_B2B.reason.unique()            \n",
    "#df_B2B.improvement.unique()          \n",
    "print(f\"NPS_Coverage_Team unique value count: {df_B2B.NPS_Coverage_Team.value_counts()} \\n\") \n",
    "print(f\"impactLastInteraction unique value count: {df_B2B.impactLastInteraction.value_counts()} \\n\")\n",
    "#df_B2B.reasonLastInteraction.unique() \n",
    "#df_B2B.improvementLastInteraction.unique() \n",
    "print(f\"Nps_rel unique value count: {df_B2B.Nps_rel.value_counts()} \\n\")      \n",
    "#df_B2B.PDR.unique()\n",
    "print(f\"Expected Business unique values count: {df_B2B.expectedBusiness.value_counts()} \\n\")\n",
    "#df_B2B.commRelation.unique()         \n",
    "#df_B2B.commFactor.unique()           \n",
    "#df_B2B.commOther.unique() "
   ]
  },
  {
   "cell_type": "markdown",
   "metadata": {},
   "source": [
    "#### 5. credit card"
   ]
  },
  {
   "cell_type": "code",
   "execution_count": 116,
   "metadata": {},
   "outputs": [
    {
     "data": {
      "text/html": [
       "<div>\n",
       "<style scoped>\n",
       "    .dataframe tbody tr th:only-of-type {\n",
       "        vertical-align: middle;\n",
       "    }\n",
       "\n",
       "    .dataframe tbody tr th {\n",
       "        vertical-align: top;\n",
       "    }\n",
       "\n",
       "    .dataframe thead th {\n",
       "        text-align: right;\n",
       "    }\n",
       "</style>\n",
       "<table border=\"1\" class=\"dataframe\">\n",
       "  <thead>\n",
       "    <tr style=\"text-align: right;\">\n",
       "      <th></th>\n",
       "      <th>Nombre de la propiedad</th>\n",
       "      <th>Todos segmentos</th>\n",
       "      <th>Fecha de Interacción</th>\n",
       "      <th>NPS</th>\n",
       "      <th>¿Por qué? VERBATIM</th>\n",
       "      <th>¿Qué mas podemos hacer para mejorar tu experiencia?</th>\n",
       "    </tr>\n",
       "  </thead>\n",
       "  <tbody>\n",
       "    <tr>\n",
       "      <th>0</th>\n",
       "      <td>Onboarding</td>\n",
       "      <td>Segmento 1</td>\n",
       "      <td>MES 1</td>\n",
       "      <td>0</td>\n",
       "      <td>No he solicitado ningún producto con ustedes. ...</td>\n",
       "      <td>NaN</td>\n",
       "    </tr>\n",
       "    <tr>\n",
       "      <th>1</th>\n",
       "      <td>Uso</td>\n",
       "      <td>Segmento 1</td>\n",
       "      <td>MES 2</td>\n",
       "      <td>0</td>\n",
       "      <td>Cada uno decide si se endeuda o no</td>\n",
       "      <td>Más claridad en el cobro de los intereses y qu...</td>\n",
       "    </tr>\n",
       "  </tbody>\n",
       "</table>\n",
       "</div>"
      ],
      "text/plain": [
       "  Nombre de la propiedad Todos segmentos Fecha de Interacción  NPS  \\\n",
       "0             Onboarding      Segmento 1                MES 1    0   \n",
       "1                    Uso      Segmento 1                MES 2    0   \n",
       "\n",
       "                                 ¿Por qué? VERBATIM   \\\n",
       "0  No he solicitado ningún producto con ustedes. ...   \n",
       "1                 Cada uno decide si se endeuda o no   \n",
       "\n",
       "  ¿Qué mas podemos hacer para mejorar tu experiencia?  \n",
       "0                                                NaN   \n",
       "1  Más claridad en el cobro de los intereses y qu...   "
      ]
     },
     "execution_count": 116,
     "metadata": {},
     "output_type": "execute_result"
    }
   ],
   "source": [
    "# First glance to dataset\n",
    "df_credit_card.head(2)"
   ]
  },
  {
   "cell_type": "code",
   "execution_count": 117,
   "metadata": {},
   "outputs": [
    {
     "name": "stdout",
     "output_type": "stream",
     "text": [
      "<class 'pandas.core.frame.DataFrame'>\n",
      "RangeIndex: 1004 entries, 0 to 1003\n",
      "Data columns (total 6 columns):\n",
      " #   Column                                               Non-Null Count  Dtype \n",
      "---  ------                                               --------------  ----- \n",
      " 0   Nombre de la propiedad                               1004 non-null   object\n",
      " 1   Todos segmentos                                      1001 non-null   object\n",
      " 2   Fecha de Interacción                                 1004 non-null   object\n",
      " 3   NPS                                                  1004 non-null   int64 \n",
      " 4   ¿Por qué? VERBATIM                                   820 non-null    object\n",
      " 5   ¿Qué mas podemos hacer para mejorar tu experiencia?  389 non-null    object\n",
      "dtypes: int64(1), object(5)\n",
      "memory usage: 47.2+ KB\n"
     ]
    }
   ],
   "source": [
    "# Get te information of dataset related with column types, number of columns and number of rows\n",
    "df_credit_card.info()"
   ]
  },
  {
   "cell_type": "code",
   "execution_count": 118,
   "metadata": {},
   "outputs": [
    {
     "data": {
      "text/plain": [
       "Index(['Nombre de la propiedad', 'Todos segmentos', 'Fecha de Interacción',\n",
       "       'NPS', '¿Por qué? VERBATIM ',\n",
       "       '¿Qué mas podemos hacer para mejorar tu experiencia?'],\n",
       "      dtype='object')"
      ]
     },
     "execution_count": 118,
     "metadata": {},
     "output_type": "execute_result"
    }
   ],
   "source": [
    "# Get the columns names of the dataset \n",
    "df_credit_card.columns"
   ]
  },
  {
   "cell_type": "code",
   "execution_count": 119,
   "metadata": {},
   "outputs": [
    {
     "data": {
      "text/plain": [
       "Index(['propName', 'segment', 'interactionDate', 'NPS', 'reason_Verbatim ',\n",
       "       'improvement'],\n",
       "      dtype='object')"
      ]
     },
     "execution_count": 119,
     "metadata": {},
     "output_type": "execute_result"
    }
   ],
   "source": [
    "# Change columns names to avoid further problems\n",
    "credit_card_columns = ['propName', 'segment', 'interactionDate',\n",
    "       'NPS', 'reason_Verbatim ','improvement']\n",
    "df_credit_card.columns = credit_card_columns\n",
    "df_credit_card.columns"
   ]
  },
  {
   "cell_type": "code",
   "execution_count": 120,
   "metadata": {},
   "outputs": [
    {
     "data": {
      "text/plain": [
       "propName              0\n",
       "segment               3\n",
       "interactionDate       0\n",
       "NPS                   0\n",
       "reason_Verbatim     184\n",
       "improvement         615\n",
       "dtype: int64"
      ]
     },
     "execution_count": 120,
     "metadata": {},
     "output_type": "execute_result"
    }
   ],
   "source": [
    "# Evaluate missing values\n",
    "missing_data_credit = df_credit_card.isnull().sum()\n",
    "missing_data_credit"
   ]
  },
  {
   "cell_type": "code",
   "execution_count": 121,
   "metadata": {},
   "outputs": [
    {
     "data": {
      "text/plain": [
       "propName              0\n",
       "segment               0\n",
       "interactionDate       0\n",
       "NPS                   0\n",
       "reason_Verbatim     182\n",
       "improvement         612\n",
       "dtype: int64"
      ]
     },
     "execution_count": 121,
     "metadata": {},
     "output_type": "execute_result"
    }
   ],
   "source": [
    "# Drop null values in segment column\n",
    "df_credit_card = df_credit_card.dropna(subset='segment')\n",
    "df_credit_card.isnull().sum()"
   ]
  },
  {
   "cell_type": "code",
   "execution_count": 122,
   "metadata": {},
   "outputs": [
    {
     "name": "stdout",
     "output_type": "stream",
     "text": [
      "<class 'pandas.core.frame.DataFrame'>\n",
      "RangeIndex: 1001 entries, 0 to 1000\n",
      "Data columns (total 7 columns):\n",
      " #   Column            Non-Null Count  Dtype \n",
      "---  ------            --------------  ----- \n",
      " 0   index             1001 non-null   int64 \n",
      " 1   propName          1001 non-null   object\n",
      " 2   segment           1001 non-null   object\n",
      " 3   interactionDate   1001 non-null   object\n",
      " 4   NPS               1001 non-null   int64 \n",
      " 5   reason_Verbatim   819 non-null    object\n",
      " 6   improvement       389 non-null    object\n",
      "dtypes: int64(2), object(5)\n",
      "memory usage: 54.9+ KB\n"
     ]
    }
   ],
   "source": [
    "# Reset index\n",
    "df_credit_card.reset_index(inplace=True)\n",
    "df_credit_card.info()"
   ]
  },
  {
   "cell_type": "code",
   "execution_count": 123,
   "metadata": {},
   "outputs": [],
   "source": [
    "# Export the datasets to the next steps of the process. \n",
    "df_branches.to_csv(\"./Data/branches.csv\", index=False, header=True)\n",
    "df_contact_center.to_csv(\"./Data/contacCenter.csv\", index=False, header=True)\n",
    "df_digital_channel.to_csv(\"./Data/digitalChannel.csv\", index=False, header=True)\n",
    "df_B2B.to_csv(\"./Data/b2b.csv\", index=False, header=True)\n",
    "df_credit_card.to_csv(\"./Data/creditCard.csv\", index=False, header=True)"
   ]
  },
  {
   "cell_type": "code",
   "execution_count": null,
   "metadata": {},
   "outputs": [],
   "source": []
  }
 ],
 "metadata": {
  "kernelspec": {
   "display_name": "Python 3",
   "language": "python",
   "name": "python3"
  },
  "language_info": {
   "codemirror_mode": {
    "name": "ipython",
    "version": 3
   },
   "file_extension": ".py",
   "mimetype": "text/x-python",
   "name": "python",
   "nbconvert_exporter": "python",
   "pygments_lexer": "ipython3",
   "version": "3.12.0"
  }
 },
 "nbformat": 4,
 "nbformat_minor": 2
}
