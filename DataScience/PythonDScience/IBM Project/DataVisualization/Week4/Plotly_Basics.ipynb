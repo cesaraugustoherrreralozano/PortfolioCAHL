{
  "cells": [
    {
      "cell_type": "markdown",
      "metadata": {},
      "source": [
        "<center>\n",
        "    <img src=\"https://cf-courses-data.s3.us.cloud-object-storage.appdomain.cloud/IBMDeveloperSkillsNetwork-DV0101EN-SkillsNetwork/labs/Module%204/logo.png\" width=\"300\" alt=\"cognitiveclass.ai logo\">\n",
        "</center>\n"
      ]
    },
    {
      "cell_type": "markdown",
      "metadata": {},
      "source": [
        "# Basic Plotly Charts\n",
        "\n",
        "Estimated time needed: 45 minutes\n"
      ]
    },
    {
      "cell_type": "markdown",
      "metadata": {},
      "source": [
        "# Objectives\n",
        "\n",
        "\n",
        "After completing this lab, you will be able to:\n",
        "\n",
        "*   Use plotly graph objects and plotly express libraries to plot different types of charts\n",
        "*   Create interesting visualizations on Airline Reporting Carrier On-Time Performance Dataset \n"
      ]
    },
    {
      "cell_type": "markdown",
      "metadata": {},
      "source": [
        "# Plotly graph objects and Plotly express libraries to plot different types of charts \n",
        "\n",
        "## Plotly Libraries\n",
        "\n",
        "**plotly.graph_objects:** \n",
        "This is a low level interface to figures, traces and layout. The Plotly graph objects module provides an automatically generated hierarchy of classes ( figures, traces, and layout) called graph objects. These graph objects represent figures with a top-level class plotly.graph_objects.Figure.\n",
        "\n",
        "**plotly.express:** \n",
        "Plotly express is a high-level wrapper for Plotly. It is a recommended starting point for creating the most common figures provided by Plotly using a simpler syntax. It uses graph objects internally.\n",
        "Now let us use these libraries to plot some charts\n",
        "We will start with plotly_graph_objects to plot line and scatter plots\n",
        "> Note: You can hover the mouse over the charts whenever you want to view any statistics in the visualization charts \n",
        "\n",
        "\n",
        "\n",
        "\n",
        "## Exercise I: Get Started with Different Chart types in Plotly\n"
      ]
    },
    {
      "cell_type": "code",
      "execution_count": 20,
      "metadata": {
        "trusted": true
      },
      "outputs": [],
      "source": [
        "# Import required libraries\n",
        "import pandas as pd\n",
        "import numpy as np\n",
        "import plotly.express as px\n",
        "import plotly.graph_objects as go"
      ]
    },
    {
      "cell_type": "markdown",
      "metadata": {},
      "source": [
        "## 1. Scatter Plot: \n",
        "A scatter plot shows the relationship between 2 variables on the x and y-axis. The data points here appear scattered when plotted on a two-dimensional plane. Using scatter plots, we can create exciting visualizations to express various relationships, such as:\n",
        "\n",
        "* Height vs weight of persons\n",
        "* Engine size vs automobile price\n",
        "* Exercise time vs Body Fat\n"
      ]
    },
    {
      "cell_type": "code",
      "execution_count": 21,
      "metadata": {
        "trusted": true
      },
      "outputs": [],
      "source": [
        "##Example 1: Let us illustrate the income vs age of people in a scatter plot\n",
        "\n",
        "#age_array=np.random.randint(25,55,60)\n",
        "#Define an array containing salesamount values \n",
        "#income_array=np.random.randint(300000,700000,3000000)"
      ]
    },
    {
      "cell_type": "code",
      "execution_count": 22,
      "metadata": {
        "trusted": true
      },
      "outputs": [],
      "source": [
        "##First we will create an empty figure using go.Figure()\n",
        "#fig=go.Figure()\n",
        "#fig"
      ]
    },
    {
      "cell_type": "code",
      "execution_count": 23,
      "metadata": {
        "trusted": true
      },
      "outputs": [],
      "source": [
        "#Next we will create a scatter plot by using the add_trace function and use the go.scatter() function within it\n",
        "# In go.Scatter we define the x-axis data,y-axis data and define the mode as markers with color of the marker as blue\n",
        "#fig.add_trace(go.Scatter(x=age_array, y=income_array, mode='markers', marker=dict(color='blue')))"
      ]
    },
    {
      "cell_type": "markdown",
      "metadata": {},
      "source": [
        "**However in the previous output title, x-axis and y-axis labels are missing. Let us use the update_layout function to update the title and labels.**\n"
      ]
    },
    {
      "cell_type": "code",
      "execution_count": 24,
      "metadata": {
        "trusted": true
      },
      "outputs": [],
      "source": [
        "## Here we update these values under function attributes such as title,xaxis_title and yaxis_title\n",
        "#fig.update_layout(title='Economic Survey', xaxis_title='Age', yaxis_title='Income')\n",
        "# Display the figure\n",
        "#fig.show()"
      ]
    },
    {
      "cell_type": "markdown",
      "metadata": {},
      "source": [
        "#### Inferences:\n",
        "     \n",
        "From the above plot we find that the Income of a person is not correlated with age. We find that as the age increases the income may or not decrease.\n"
      ]
    },
    {
      "cell_type": "markdown",
      "metadata": {},
      "source": [
        "## 2. Line Plot: \n",
        "A line plot shows information that changes continuously with time. Here the data points are connected by straight lines. Line plots are also plotted on a two dimensional plane like scatter plots. Using line plots, we can create exciting visualizations to illustrate:\n",
        "\n",
        "  * Annual revenue growth\n",
        "  * Stock Market analysis over time\n",
        "  * Product Sales over time\n"
      ]
    },
    {
      "cell_type": "code",
      "execution_count": 25,
      "metadata": {
        "trusted": true
      },
      "outputs": [],
      "source": [
        "##Example 2: Let us illustrate the sales of bicycles from Jan to August last year using a line chart\n",
        "# Define an array containing numberofbicyclessold  \n",
        "#numberofbicyclessold_array=[50,100,40,150,160,70,60,45]\n",
        "# Define an array containing months\n",
        "#months_array=[\"Jan\",\"Feb\",\"Mar\",\"April\",\"May\",\"June\",\"July\",\"August\"]\n"
      ]
    },
    {
      "cell_type": "code",
      "execution_count": 26,
      "metadata": {
        "trusted": true
      },
      "outputs": [],
      "source": [
        "##First we will create an empty figure using go.Figure()\n",
        "#fig=go.Figure()"
      ]
    },
    {
      "cell_type": "code",
      "execution_count": 27,
      "metadata": {
        "trusted": true
      },
      "outputs": [],
      "source": [
        "#Next we will create a line plot by using the add_trace function and use the go.scatter() function within it\n",
        "# In go.Scatter we define the x-axis data,y-axis data and define the mode as lines with color of the marker as green\n",
        "#fig.add_trace(go.Scatter(x=months_array, y=numberofbicyclessold_array, mode='lines', marker=dict(color='green')))"
      ]
    },
    {
      "cell_type": "code",
      "execution_count": 28,
      "metadata": {
        "trusted": true
      },
      "outputs": [],
      "source": [
        "## Here we update these values under function attributes such as title,xaxis_title and yaxis_title\n",
        "#fig.update_layout(title='Bicycle Sales', xaxis_title='Months', yaxis_title='Number of Bicycles Sold')\n",
        "# Display the figure\n",
        "#fig.show()"
      ]
    },
    {
      "cell_type": "markdown",
      "metadata": {},
      "source": [
        "#### Inferences:\n",
        "     \n",
        "From the above plot we find that the sales is the highest in the month of May and then there is a decline in sales.\n"
      ]
    },
    {
      "cell_type": "markdown",
      "metadata": {},
      "source": [
        "We will now use plotly express library to plot the other graphs\n"
      ]
    },
    {
      "cell_type": "markdown",
      "metadata": {},
      "source": [
        "  \n",
        "## 3.Bar Plot: \n",
        "A bar plot represents categorical data in rectangular bars. Each category is defined on one axis, and the value counts for this category are represented on another axis. Bar charts are generally used to compare values.We can use bar plots in visualizing:\n",
        "\n",
        " * Pizza delivery time in peak and non peak hours\n",
        " * Population comparison by gender\n",
        " * Number of views by movie name\n"
      ]
    },
    {
      "cell_type": "code",
      "execution_count": 29,
      "metadata": {
        "trusted": true
      },
      "outputs": [],
      "source": [
        "##Example 3: Let us illustrate the average pass percentage of classes from grade 6 to grade 10\n",
        "\n",
        "# Define an array containing scores of students \n",
        "#score_array=[80,90,56,88,95]\n",
        "# Define an array containing Grade names  \n",
        "#grade_array=['Grade 6','Grade 7','Grade 8','Grade 9','Grade 10']"
      ]
    },
    {
      "cell_type": "markdown",
      "metadata": {},
      "source": [
        "**In plotly express we set the axis values and the title within the same function call `px.<graphtype>(x=<xaxis value source>,y=<y-axis value source>,title=<appropriate title as a string>)`.In the below code we use `px.bar( x=grade_array, y=score_array, title='Pass Percentage of Classes')`.**\n"
      ]
    },
    {
      "cell_type": "code",
      "execution_count": 30,
      "metadata": {
        "trusted": true
      },
      "outputs": [],
      "source": [
        "# Use plotly express bar chart function px.bar.Provide input data, x and y axis variable, and title of the chart.\n",
        "# This will give average pass percentage per class\n",
        "#fig = px.bar( x=grade_array, y=score_array, title='Pass Percentage of Classes') \n",
        "#fig.show()"
      ]
    },
    {
      "cell_type": "code",
      "execution_count": 31,
      "metadata": {
        "trusted": true
      },
      "outputs": [],
      "source": [
        "#fig.update_layout(title='Pass Percentage of Classes', xaxis_title='Grade', yaxis_title='Percentage')"
      ]
    },
    {
      "cell_type": "markdown",
      "metadata": {},
      "source": [
        "#### Inferences:\n",
        "     \n",
        "From the above plot we find that Grade 8 has the lowest pass percentage and Grade 10 has the highest pass percentage \n"
      ]
    },
    {
      "cell_type": "markdown",
      "metadata": {},
      "source": [
        "\n",
        "## 4.Histogram: \n",
        " A histogram is used to represent continuous data in the form of bar. Each bar has discrete values in bar graphs, whereas in histograms, we have bars representing a range of values. Histograms show frequency distributions. We can use histograms to visualize:\n",
        " \n",
        " * Students marks distribution\n",
        " * Frequency of waiting time of customers in a Bank\n"
      ]
    },
    {
      "cell_type": "code",
      "execution_count": 32,
      "metadata": {
        "trusted": true
      },
      "outputs": [],
      "source": [
        "##Example 4: Let us illustrate the distribution of heights of 200 people using a histogram\n",
        "\n",
        "#import numpy as np\n",
        "#Here we will concentrate on heights which are 160 and the standard deviation is 11\n",
        "#heights_array = np.random.normal(160, 11, 200)\n",
        "## Use plotly express histogram chart function px.histogram.Provide input data x to the histogram\n",
        "#fig = px.histogram(x=heights_array,title=\"Distribution of Heights\")\n",
        "#fig.show()"
      ]
    },
    {
      "cell_type": "code",
      "execution_count": 33,
      "metadata": {
        "trusted": true
      },
      "outputs": [],
      "source": [
        "#fig.update_layout(xaxis_title='Height', yaxis_title='Count')"
      ]
    },
    {
      "cell_type": "markdown",
      "metadata": {},
      "source": [
        "#### Inferences\n",
        "From this we can analyze that there are around \n",
        "2 people who are at the height of 130cm and 45 people at the height of 160 cm\n"
      ]
    },
    {
      "cell_type": "markdown",
      "metadata": {},
      "source": [
        "## 5. Bubble Plot: \n",
        "A bubble plot is used to show the relationship between 3 or more variables. It is an extension of a scatter plot. Bubble plots are ideal for visualizing:\n",
        "\n",
        "  * Global Economic position of Industries\n",
        "  * Impact of viruses on Diseases\n"
      ]
    },
    {
      "cell_type": "code",
      "execution_count": 34,
      "metadata": {
        "trusted": true
      },
      "outputs": [],
      "source": [
        "##Example 4: Let us illustrate crime statistics of US cities with a bubble chart\n",
        "\n",
        "#Create a dictionary having city,numberofcrimes and year as 3 keys\n",
        "#crime_details = {\n",
        "#    'City' : ['Chicago', 'Chicago', 'Austin', 'Austin','Seattle','Seattle'],\n",
        "#    'Numberofcrimes' : [1000, 1200, 400, 700,350,1500],\n",
        "#    'Year' : ['2007', '2008', '2007', '2008','2007','2008'],\n",
        "#}\n",
        "  \n",
        "# create a Dataframe object with the dictionary\n",
        "#df = pd.DataFrame(crime_details)\n",
        "  \n",
        "#df"
      ]
    },
    {
      "cell_type": "code",
      "execution_count": 35,
      "metadata": {
        "trusted": true
      },
      "outputs": [],
      "source": [
        "## Group the number of crimes by city and find the total number of crimes per city\n",
        "#bub_data = df.groupby('City')['Numberofcrimes'].sum().reset_index()"
      ]
    },
    {
      "cell_type": "code",
      "execution_count": 36,
      "metadata": {
        "trusted": true
      },
      "outputs": [],
      "source": [
        "##Display the grouped dataframe\n",
        "#bub_data"
      ]
    },
    {
      "cell_type": "code",
      "execution_count": 37,
      "metadata": {
        "trusted": true
      },
      "outputs": [],
      "source": [
        "## Bubble chart using px.scatter function with x ,y and size varibles defined.Title defined as Crime Statistics\n",
        "#fig = px.scatter(bub_data, x=\"City\", y=\"Numberofcrimes\", size=\"Numberofcrimes\",\n",
        "#                 hover_name=\"City\", title='Crime Statistics', size_max=60)\n",
        "#fig.show()"
      ]
    },
    {
      "cell_type": "markdown",
      "metadata": {},
      "source": [
        "#### Inferences\n",
        "The size of the bubble in the bubble chart indicates that Chicago has the highest crime rate when compared with the other 2 cities.\n"
      ]
    },
    {
      "cell_type": "markdown",
      "metadata": {},
      "source": [
        " ## 6.Pie Plot: \n",
        " A pie plot is a circle chart mainly used to represent proportion of part of given data with respect to the whole data. Each slice represents a proportion and on total of the proportion becomes a whole. We can use bar plots in visualizing:\n",
        " \n",
        " * Sales turnover percentatge with respect to different products\n",
        " * Monthly expenditure of a Family\n"
      ]
    },
    {
      "cell_type": "code",
      "execution_count": 38,
      "metadata": {
        "trusted": true
      },
      "outputs": [],
      "source": [
        "## Monthly expenditure of a family\n",
        "# Random Data\n",
        "#exp_percent= [20, 50, 10,8,12]\n",
        "#house_holdcategories = ['Grocery', 'Rent', 'School Fees','Transport','Savings']"
      ]
    },
    {
      "cell_type": "code",
      "execution_count": 39,
      "metadata": {
        "trusted": true
      },
      "outputs": [],
      "source": [
        "# Use px.pie function to create the chart. Input dataset. \n",
        "# Values parameter will set values associated to the sector. 'exp_percent' feature is passed to it.\n",
        "# labels for the sector are passed to the `house hold categoris` parameter.\n",
        "#fig = px.pie(values=exp_percent, names=house_holdcategories, title='Household Expenditure')\n",
        "#fig.show()"
      ]
    },
    {
      "cell_type": "markdown",
      "metadata": {},
      "source": [
        "#### Inferences\n",
        "From this pie chart we can find that the family expenditure is maximum for rent.\n"
      ]
    },
    {
      "cell_type": "markdown",
      "metadata": {},
      "source": [
        "## 7.Sunburst Charts: \n",
        "Sunburst charts represent hierarchial data in the form of concentric circles. Here the innermost circle is the root node which defines the parent, and then the outer rings move down the hierarchy from the centre. They are also called radial charts.We can use them to plot\n",
        "\n",
        "* Worldwide mobile Sales where we can drill down as follows:   \n",
        "    * innermost circle represents total sales  \n",
        "    * first outer circle represents continentwise sales\n",
        "    * second outer circle represents countrywise sales within each continent\n",
        "    \n",
        "    \n",
        "* Disease outbreak hierarchy\n",
        "\n",
        "\n",
        "* Real Estate Industrial chain\n"
      ]
    },
    {
      "cell_type": "code",
      "execution_count": 40,
      "metadata": {
        "trusted": true
      },
      "outputs": [],
      "source": [
        "##Example 4: Let us illustrate plot the \n",
        "\n",
        "#Create a dictionary having a set of people represented by a character array and the parents of these characters represented in another\n",
        "## array and the values are the values associated to the vectors.\n",
        "#data = dict(\n",
        "#    character=[\"Eve\", \"Cain\", \"Seth\", \"Enos\", \"Noam\", \"Abel\", \"Awan\", \"Enoch\", \"Azura\"],\n",
        "#    parent=[\"\", \"Eve\", \"Eve\", \"Seth\", \"Seth\", \"Eve\", \"Eve\", \"Awan\", \"Eve\" ],\n",
        "#    value=[10, 14, 12, 10, 2, 6, 6, 4, 4])\n",
        "\n",
        "#fig = px.sunburst(\n",
        "#    data,\n",
        "#    names='character',\n",
        "#    parents='parent',\n",
        "#    values='value',\n",
        "#    title=\"Family chart\"\n",
        "#)\n",
        "#fig.show()"
      ]
    },
    {
      "cell_type": "markdown",
      "metadata": {},
      "source": [
        "#### Inferences\n",
        "\n",
        "It is found that here the innermost circle **Eve** represents the parent and the second outer circle represents his childrent **Cain**,**Seth** and so on.Further the outermost circle represents his grandchildren **Enoch** and **Enos**\n"
      ]
    }
  ],
  "metadata": {
    "kernelspec": {
      "display_name": "Python 3",
      "language": "python",
      "name": "python3"
    },
    "language_info": {
      "codemirror_mode": {
        "name": "ipython",
        "version": 3
      },
      "file_extension": ".py",
      "mimetype": "text/x-python",
      "name": "python",
      "nbconvert_exporter": "python",
      "pygments_lexer": "ipython3",
      "version": "3.12.0"
    }
  },
  "nbformat": 4,
  "nbformat_minor": 4
}
