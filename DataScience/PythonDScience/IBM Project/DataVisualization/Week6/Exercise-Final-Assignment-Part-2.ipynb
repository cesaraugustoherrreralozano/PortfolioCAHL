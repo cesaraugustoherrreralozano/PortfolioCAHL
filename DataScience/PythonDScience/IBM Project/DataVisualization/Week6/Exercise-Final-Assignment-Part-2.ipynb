{
 "cells": [
  {
   "cell_type": "markdown",
   "metadata": {},
   "source": [
    "# Final Project Part 2"
   ]
  },
  {
   "cell_type": "markdown",
   "metadata": {},
   "source": [
    "## Import libraries"
   ]
  },
  {
   "cell_type": "code",
   "execution_count": 1,
   "metadata": {},
   "outputs": [],
   "source": [
    "import dash\n",
    "from dash import dcc\n",
    "from dash import html\n",
    "from dash.dependencies import Input, Output\n",
    "import pandas as pd\n",
    "import plotly.graph_objs as go\n",
    "import plotly.express as px"
   ]
  },
  {
   "cell_type": "markdown",
   "metadata": {},
   "source": [
    "## Load Dataset"
   ]
  },
  {
   "cell_type": "code",
   "execution_count": 2,
   "metadata": {},
   "outputs": [],
   "source": [
    "\n",
    "# Load the data using pandas\n",
    "data = pd.read_csv('https://cf-courses-data.s3.us.cloud-object-storage.appdomain.cloud/IBMDeveloperSkillsNetwork-DV0101EN-SkillsNetwork/Data%20Files/historical_automobile_sales.csv')\n"
   ]
  },
  {
   "cell_type": "code",
   "execution_count": 3,
   "metadata": {},
   "outputs": [
    {
     "data": {
      "text/html": [
       "\n",
       "        <iframe\n",
       "            width=\"100%\"\n",
       "            height=\"650\"\n",
       "            src=\"http://127.0.0.1:8050/\"\n",
       "            frameborder=\"0\"\n",
       "            allowfullscreen\n",
       "            \n",
       "        ></iframe>\n",
       "        "
      ],
      "text/plain": [
       "<IPython.lib.display.IFrame at 0x14a14fcfce0>"
      ]
     },
     "metadata": {},
     "output_type": "display_data"
    }
   ],
   "source": [
    "\n",
    "# Initialize the Dash app\n",
    "app = dash.Dash(__name__)\n",
    "\n",
    "# Set the title of the dashboard\n",
    "app.title = \"Automobile Statistics Dashboard\"\n",
    "\n",
    "#---------------------------------------------------------------------------------\n",
    "# Create the dropdown menu options\n",
    "dropdown_options = [\n",
    "    {'label': 'Yearly Statistics', 'value': 'Yearly Statistics'},\n",
    "    {'label': 'Recession Period Statistics', 'value': 'Recession Period Statistics'}\n",
    "]\n",
    "# List of years \n",
    "year_list = [i for i in range(1980, 2024, 1)]\n",
    "#---------------------------------------------------------------------------------------\n",
    "# Create the layout of the app\n",
    "app.layout = html.Div([\n",
    "    #TASK 2.1 Add title to the dashboard\n",
    "    html.H1(\"Automobile Sales Statistics Dashboard\", style={'color':'#503d36', \n",
    "    'font-size':24,'textAlign':'center'}),#May include style for title\n",
    "    html.Div([#TASK 2.2: Add two dropdown menus\n",
    "        html.Label(\"Select Statistics:\"),\n",
    "        dcc.Dropdown(\n",
    "            id='dropdown-statistics',\n",
    "            options=dropdown_options,\n",
    "            value='Select Statistics',\n",
    "            placeholder='Select a report type',\n",
    "            style={'width': '80%', 'padding':'3px','text-align-last':'center'}\n",
    "        )\n",
    "    ]),\n",
    "    html.Div(dcc.Dropdown(\n",
    "            id='select-year',\n",
    "            options=year_list,\n",
    "            value='1980'\n",
    "        )),\n",
    "    html.Div([#TASK 2.3: Add a division for output display\n",
    "    html.Div(id='output-container', className='chart-grid', style={'display': 'flex'}),])\n",
    "])\n",
    "#TASK 2.4: Creating Callbacks\n",
    "# Define the callback function to update the input container based on the selected statistics\n",
    "@app.callback(\n",
    "    Output(component_id='select-year', component_property='disabled'),\n",
    "    Input(component_id='dropdown-statistics',component_property='value'))\n",
    "\n",
    "def update_input_container(selected_statistics):\n",
    "    if selected_statistics =='Yearly Statistics': \n",
    "        return False\n",
    "    else: \n",
    "        return True\n",
    "\n",
    "#Callback for plotting\n",
    "# Define the callback function to update the input container based on the selected statistics\n",
    "@app.callback(\n",
    "    Output(component_id='output-container', component_property='children'),\n",
    "    [Input(component_id='select-year', component_property='value'), \n",
    "    Input(component_id='dropdown-statistics', component_property='value')])\n",
    "\n",
    "\n",
    "def update_output_container(selected_year, selected_statistics):\n",
    "    if selected_statistics == 'Recession Period Statistics':\n",
    "        # Filter the data for recession periods\n",
    "        recession_data = data[data['Recession'] == 1]\n",
    "        \n",
    "#TASK 2.5: Create and display graphs for Recession Report Statistics\n",
    "\n",
    "#Plot 1 Automobile sales fluctuate over Recession Period (year wise)\n",
    "        # use groupby to create relevant data for plotting\n",
    "        yearly_rec=recession_data.groupby('Year')['Automobile_Sales'].mean().reset_index()\n",
    "        R_chart1 = dcc.Graph(\n",
    "            figure=px.line(yearly_rec, \n",
    "                x='Year',\n",
    "                y='Automobile_Sales',\n",
    "                title=\"Average Automobile Sales fluctuation over Recession Period\"))\n",
    "\n",
    "#Plot 2 Calculate the average number of vehicles sold by vehicle type       \n",
    "        # use groupby to create relevant data for plotting\n",
    "        average_sales = recession_data.groupby('Vehicle_Type')['Automobile_Sales'].mean().reset_index()                           \n",
    "        R_chart2  = dcc.Graph(figure=px.bar(average_sales, x='Vehicle_Type', \n",
    "        y='Automobile_Sales', title='Average sales by vehicle type'))\n",
    "\n",
    "        dash.html.Br\n",
    "        \n",
    "# Plot 3 Pie chart for total expenditure share by vehicle type during recessions\n",
    "        # use groupby to create relevant data for plotting\n",
    "        exp_rec= recession_data.groupby('Vehicle_Type')['Advertising_Expenditure'].sum().reset_index()\n",
    "        R_chart3 = dcc.Graph(figure=px.pie(exp_rec, values='Advertising_Expenditure', \n",
    "        names='Vehicle_Type', title='Total Advertisement Expenditure for each vehicle'))\n",
    "\n",
    "# Plot 4 bar chart for the effect of unemployment rate on vehicle type and sales\n",
    "        unem_rec = recession_data.groupby('Vehicle_Type')[['unemployment_rate']].sum().reset_index()\n",
    "        R_chart4 = dcc.Graph(figure=px.bar(unem_rec, x='unemployment_rate',\n",
    "        color='Vehicle_Type',title='Unemployment rate on vehicle type and sales'))\n",
    "\n",
    "\n",
    "        return [\n",
    "            html.Div(className='chart-item', children=[html.Div(children=R_chart1),html.Div(children=R_chart2)],style={'display': 'flex', 'flex-wrap': 'wrap'}),\n",
    "            html.Div(className='chart-item', children=[html.Div(children=R_chart3),html.Div(children=R_chart4)],style={'display': 'flex', 'flex-wrap': 'wrap'})\n",
    "            ]\n",
    "\n",
    "# TASK 2.6: Create and display graphs for Yearly Report Statistics\n",
    " # Yearly Statistic Report Plots                             \n",
    "    elif (selected_statistics=='Yearly Statistics') :\n",
    "        yearly_data = data[data['Year'] == selected_year]\n",
    "                              \n",
    "#TASK 2.5: Creating Graphs Yearly data\n",
    "                              \n",
    "#plot 1 Yearly Automobile sales using line chart for the whole period.\n",
    "        yas= data.groupby('Year')['Automobile_Sales'].mean().reset_index()\n",
    "        Y_chart1 = dcc.Graph(figure=px.line(yas, x=\"Year\", \n",
    "        y=\"Automobile_Sales\", title='Yearly Automobile sales'))\n",
    "            \n",
    "# Plot 2 Total Monthly Automobile sales using line chart.\n",
    "        mas= yearly_data.groupby('Month')['Automobile_Sales'].mean().reset_index()\n",
    "        Y_chart2 = dcc.Graph(figure=px.line(mas, x=\"Month\", \n",
    "        y=\"Automobile_Sales\", title='Monthly Automobile sales'))\n",
    "\n",
    "            # Plot bar chart for average number of vehicles sold \n",
    "            # during the given year\n",
    "        avr_vdata = yearly_data.groupby('Vehicle_Type')['Automobile_Sales'].mean().reset_index()\n",
    "        Y_chart3 = dcc.Graph(figure=px.bar(avr_vdata,x='Vehicle_Type', y='Automobile_Sales'))\n",
    "\n",
    "            # Total Advertisement Expenditure for each vehicle using pie chart\n",
    "        exp_data=yearly_data.groupby('Vehicle_Type')['Advertising_Expenditure'].sum().reset_index()\n",
    "        Y_chart4 = dcc.Graph(figure=px.pie(exp_data, values='Advertising_Expenditure', \n",
    "        names='Vehicle_Type', title='Total Advertisement Expenditure for each vehicle'))\n",
    "\n",
    "#TASK 2.6: Returning the graphs for displaying Yearly data\n",
    "        return [\n",
    "                html.Div(className='chart_item', children=[html.Div(Y_chart1),html.Div(Y_chart2)],style={'display': 'flex', 'flex-wrap': 'wrap'}),\n",
    "                html.Div(className='chart_item', children=[html.Div(Y_chart3),html.Div(Y_chart4)],style={'display': 'flex', 'flex-wrap': 'wrap'})\n",
    "                ]\n",
    "        \n",
    "    else:\n",
    "        return None\n",
    "\n",
    "# Run the Dash app\n",
    "if __name__ == '__main__':\n",
    "    app.run_server(debug=True)\n",
    "\n"
   ]
  },
  {
   "cell_type": "code",
   "execution_count": null,
   "metadata": {},
   "outputs": [],
   "source": []
  }
 ],
 "metadata": {
  "kernelspec": {
   "display_name": "Python 3",
   "language": "python",
   "name": "python3"
  },
  "language_info": {
   "codemirror_mode": {
    "name": "ipython",
    "version": 3
   },
   "file_extension": ".py",
   "mimetype": "text/x-python",
   "name": "python",
   "nbconvert_exporter": "python",
   "pygments_lexer": "ipython3",
   "version": "3.12.0"
  }
 },
 "nbformat": 4,
 "nbformat_minor": 2
}
