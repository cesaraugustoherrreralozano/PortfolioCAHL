{
 "cells": [
  {
   "cell_type": "markdown",
   "metadata": {},
   "source": [
    "# Pizza Project Data Analysis"
   ]
  },
  {
   "cell_type": "code",
   "execution_count": 1,
   "metadata": {},
   "outputs": [],
   "source": [
    "import pandas as pd"
   ]
  },
  {
   "cell_type": "code",
   "execution_count": 10,
   "metadata": {},
   "outputs": [
    {
     "name": "stderr",
     "output_type": "stream",
     "text": [
      "C:\\Users\\herre\\AppData\\Local\\Temp\\ipykernel_17672\\118800683.py:3: UserWarning: Could not infer format, so each element will be parsed individually, falling back to `dateutil`. To ensure parsing is consistent and as-expected, please specify a format.\n",
      "  pizza_df['order_time'] = pd.to_datetime(pizza_df['order_time']).dt.time\n"
     ]
    }
   ],
   "source": [
    "pizza_df = pd.read_csv('C:/Users/herre/JupyterNotebooks/Notebooks/PortfolioCAHL/PortfolioCAHL/Data Science/PythonDAnalysis/DatabasePizzaProject/pizza_sales.csv')\n",
    "pizza_df['order_date'] = pd.to_datetime(pizza_df['order_date'], format='%d-%m-%Y')\n",
    "pizza_df['order_time'] = pd.to_datetime(pizza_df['order_time']).dt.time\n",
    "pizza_df['Year'] = pizza_df['order_date'].dt.year\n",
    "pizza_df['Month'] = pizza_df['order_date'].dt.month_name()\n",
    "pizza_df['DayNum'] = pizza_df['order_date'].dt.day\n",
    "pizza_df['DayName'] = pizza_df['order_date'].dt.day_name()\n",
    " "
   ]
  },
  {
   "cell_type": "code",
   "execution_count": 11,
   "metadata": {},
   "outputs": [
    {
     "data": {
      "text/html": [
       "<div>\n",
       "<style scoped>\n",
       "    .dataframe tbody tr th:only-of-type {\n",
       "        vertical-align: middle;\n",
       "    }\n",
       "\n",
       "    .dataframe tbody tr th {\n",
       "        vertical-align: top;\n",
       "    }\n",
       "\n",
       "    .dataframe thead th {\n",
       "        text-align: right;\n",
       "    }\n",
       "</style>\n",
       "<table border=\"1\" class=\"dataframe\">\n",
       "  <thead>\n",
       "    <tr style=\"text-align: right;\">\n",
       "      <th></th>\n",
       "      <th>order_date</th>\n",
       "      <th>Year</th>\n",
       "      <th>Month</th>\n",
       "      <th>DayNum</th>\n",
       "      <th>DayName</th>\n",
       "    </tr>\n",
       "  </thead>\n",
       "  <tbody>\n",
       "    <tr>\n",
       "      <th>0</th>\n",
       "      <td>2015-01-01</td>\n",
       "      <td>2015</td>\n",
       "      <td>January</td>\n",
       "      <td>1</td>\n",
       "      <td>Thursday</td>\n",
       "    </tr>\n",
       "    <tr>\n",
       "      <th>1</th>\n",
       "      <td>2015-01-01</td>\n",
       "      <td>2015</td>\n",
       "      <td>January</td>\n",
       "      <td>1</td>\n",
       "      <td>Thursday</td>\n",
       "    </tr>\n",
       "    <tr>\n",
       "      <th>2</th>\n",
       "      <td>2015-01-01</td>\n",
       "      <td>2015</td>\n",
       "      <td>January</td>\n",
       "      <td>1</td>\n",
       "      <td>Thursday</td>\n",
       "    </tr>\n",
       "    <tr>\n",
       "      <th>3</th>\n",
       "      <td>2015-01-01</td>\n",
       "      <td>2015</td>\n",
       "      <td>January</td>\n",
       "      <td>1</td>\n",
       "      <td>Thursday</td>\n",
       "    </tr>\n",
       "    <tr>\n",
       "      <th>4</th>\n",
       "      <td>2015-01-01</td>\n",
       "      <td>2015</td>\n",
       "      <td>January</td>\n",
       "      <td>1</td>\n",
       "      <td>Thursday</td>\n",
       "    </tr>\n",
       "    <tr>\n",
       "      <th>...</th>\n",
       "      <td>...</td>\n",
       "      <td>...</td>\n",
       "      <td>...</td>\n",
       "      <td>...</td>\n",
       "      <td>...</td>\n",
       "    </tr>\n",
       "    <tr>\n",
       "      <th>48615</th>\n",
       "      <td>2015-12-31</td>\n",
       "      <td>2015</td>\n",
       "      <td>December</td>\n",
       "      <td>31</td>\n",
       "      <td>Thursday</td>\n",
       "    </tr>\n",
       "    <tr>\n",
       "      <th>48616</th>\n",
       "      <td>2015-12-31</td>\n",
       "      <td>2015</td>\n",
       "      <td>December</td>\n",
       "      <td>31</td>\n",
       "      <td>Thursday</td>\n",
       "    </tr>\n",
       "    <tr>\n",
       "      <th>48617</th>\n",
       "      <td>2015-12-31</td>\n",
       "      <td>2015</td>\n",
       "      <td>December</td>\n",
       "      <td>31</td>\n",
       "      <td>Thursday</td>\n",
       "    </tr>\n",
       "    <tr>\n",
       "      <th>48618</th>\n",
       "      <td>2015-12-31</td>\n",
       "      <td>2015</td>\n",
       "      <td>December</td>\n",
       "      <td>31</td>\n",
       "      <td>Thursday</td>\n",
       "    </tr>\n",
       "    <tr>\n",
       "      <th>48619</th>\n",
       "      <td>2015-12-31</td>\n",
       "      <td>2015</td>\n",
       "      <td>December</td>\n",
       "      <td>31</td>\n",
       "      <td>Thursday</td>\n",
       "    </tr>\n",
       "  </tbody>\n",
       "</table>\n",
       "<p>48620 rows × 5 columns</p>\n",
       "</div>"
      ],
      "text/plain": [
       "      order_date  Year     Month  DayNum   DayName\n",
       "0     2015-01-01  2015   January       1  Thursday\n",
       "1     2015-01-01  2015   January       1  Thursday\n",
       "2     2015-01-01  2015   January       1  Thursday\n",
       "3     2015-01-01  2015   January       1  Thursday\n",
       "4     2015-01-01  2015   January       1  Thursday\n",
       "...          ...   ...       ...     ...       ...\n",
       "48615 2015-12-31  2015  December      31  Thursday\n",
       "48616 2015-12-31  2015  December      31  Thursday\n",
       "48617 2015-12-31  2015  December      31  Thursday\n",
       "48618 2015-12-31  2015  December      31  Thursday\n",
       "48619 2015-12-31  2015  December      31  Thursday\n",
       "\n",
       "[48620 rows x 5 columns]"
      ]
     },
     "execution_count": 11,
     "metadata": {},
     "output_type": "execute_result"
    }
   ],
   "source": [
    "pizza_df[['order_date','Year','Month','DayNum','DayName']]"
   ]
  },
  {
   "cell_type": "markdown",
   "metadata": {},
   "source": [
    "#### KPI"
   ]
  },
  {
   "cell_type": "code",
   "execution_count": 25,
   "metadata": {},
   "outputs": [
    {
     "data": {
      "text/plain": [
       "817860.05"
      ]
     },
     "execution_count": 25,
     "metadata": {},
     "output_type": "execute_result"
    }
   ],
   "source": [
    "# Total Revenue\n",
    "Total_Revenue = (pizza_df['total_price'].sum()).round(2)\n",
    "Total_Revenue"
   ]
  },
  {
   "cell_type": "code",
   "execution_count": 26,
   "metadata": {},
   "outputs": [
    {
     "data": {
      "text/plain": [
       "38.31"
      ]
     },
     "execution_count": 26,
     "metadata": {},
     "output_type": "execute_result"
    }
   ],
   "source": [
    "# Average Order Revenue\n",
    "Avg_Order_Rev = (pizza_df['total_price'].sum()/pizza_df['order_id'].nunique()).round(2)\n",
    "Avg_Order_Rev"
   ]
  },
  {
   "cell_type": "code",
   "execution_count": 28,
   "metadata": {},
   "outputs": [
    {
     "data": {
      "text/plain": [
       "49574"
      ]
     },
     "execution_count": 28,
     "metadata": {},
     "output_type": "execute_result"
    }
   ],
   "source": [
    "# Total Pizza Sold\n",
    "Total_Pizza_Sold = pizza_df['quantity'].sum()\n",
    "Total_Pizza_Sold"
   ]
  },
  {
   "cell_type": "code",
   "execution_count": 29,
   "metadata": {},
   "outputs": [
    {
     "data": {
      "text/plain": [
       "21350"
      ]
     },
     "execution_count": 29,
     "metadata": {},
     "output_type": "execute_result"
    }
   ],
   "source": [
    "# Total Orders\n",
    "Total_Orders = pizza_df['order_id'].nunique()\n",
    "Total_Orders"
   ]
  },
  {
   "cell_type": "code",
   "execution_count": 37,
   "metadata": {},
   "outputs": [
    {
     "data": {
      "text/plain": [
       "2.32"
      ]
     },
     "execution_count": 37,
     "metadata": {},
     "output_type": "execute_result"
    }
   ],
   "source": [
    "# Average Pizza per Order\n",
    "Avg_pizza_order = (Total_Pizza_Sold/Total_Orders).round(2)\n",
    "Avg_pizza_order"
   ]
  },
  {
   "cell_type": "markdown",
   "metadata": {},
   "source": [
    "#### Charts"
   ]
  },
  {
   "cell_type": "code",
   "execution_count": 49,
   "metadata": {},
   "outputs": [
    {
     "data": {
      "text/plain": [
       "DayName\n",
       "Friday       3538\n",
       "Thursday     3239\n",
       "Saturday     3158\n",
       "Wednesday    3024\n",
       "Tuesday      2973\n",
       "Monday       2794\n",
       "Sunday       2624\n",
       "Name: order_id, dtype: int64"
      ]
     },
     "execution_count": 49,
     "metadata": {},
     "output_type": "execute_result"
    }
   ],
   "source": [
    "# Calculate the daily trend for total orders\n",
    "\n",
    "Daily_Trend_Order = pizza_df.groupby('DayName')['order_id'].nunique().sort_values(ascending=False)\n",
    "Daily_Trend_Order"
   ]
  },
  {
   "cell_type": "code",
   "execution_count": 50,
   "metadata": {},
   "outputs": [
    {
     "data": {
      "text/plain": [
       "Month\n",
       "July         1935\n",
       "May          1853\n",
       "January      1845\n",
       "August       1841\n",
       "March        1840\n",
       "April        1799\n",
       "November     1792\n",
       "June         1773\n",
       "February     1685\n",
       "December     1680\n",
       "September    1661\n",
       "October      1646\n",
       "Name: order_id, dtype: int64"
      ]
     },
     "execution_count": 50,
     "metadata": {},
     "output_type": "execute_result"
    }
   ],
   "source": [
    "# Calculate the monthly trend for total orders\n",
    "Monthly_Trend_Order = pizza_df.groupby('Month')['order_id'].nunique().sort_values(ascending=False)\n",
    "Monthly_Trend_Order"
   ]
  },
  {
   "cell_type": "code",
   "execution_count": 85,
   "metadata": {},
   "outputs": [
    {
     "data": {
      "text/plain": [
       "pizza_category\n",
       "Classic    26.91\n",
       "Supreme    25.46\n",
       "Chicken    23.96\n",
       "Veggie     23.68\n",
       "Name: total_price, dtype: float64"
      ]
     },
     "execution_count": 85,
     "metadata": {},
     "output_type": "execute_result"
    }
   ],
   "source": [
    "# Percentage of sales by pizza category\n",
    "Pizza_Category_Sales_P = ((pizza_df.groupby('pizza_category')['total_price'].sum())/pizza_df['total_price'].sum())*100\n",
    "Pizza_Category_Sales_P.sort_values(ascending=False).round(2)"
   ]
  },
  {
   "cell_type": "code",
   "execution_count": 86,
   "metadata": {},
   "outputs": [
    {
     "data": {
      "text/plain": [
       "pizza_category\n",
       "Classic    30.03\n",
       "Supreme    24.18\n",
       "Veggie     23.50\n",
       "Chicken    22.29\n",
       "Name: quantity, dtype: float64"
      ]
     },
     "execution_count": 86,
     "metadata": {},
     "output_type": "execute_result"
    }
   ],
   "source": [
    "# Percentage of quantity by pizza category\n",
    "Pizza_Category_Quantity_P = ((pizza_df.groupby('pizza_category')['quantity'].sum())/pizza_df['quantity'].sum())*100\n",
    "Pizza_Category_Quantity_P.sort_values(ascending=False).round(2)"
   ]
  },
  {
   "cell_type": "code",
   "execution_count": 81,
   "metadata": {},
   "outputs": [
    {
     "data": {
      "text/plain": [
       "pizza_size\n",
       "L      45.89\n",
       "M      30.49\n",
       "S      21.77\n",
       "XL      1.72\n",
       "XXL     0.12\n",
       "Name: total_price, dtype: float64"
      ]
     },
     "execution_count": 81,
     "metadata": {},
     "output_type": "execute_result"
    }
   ],
   "source": [
    "# Percentage of sales by pizza size\n",
    "Pizza_Size_Sales_P = ((pizza_df.groupby('pizza_size')['total_price'].sum())/pizza_df['total_price'].sum())*100\n",
    "Pizza_Size_Sales_P.sort_values(ascending=False).round(2)"
   ]
  },
  {
   "cell_type": "code",
   "execution_count": 87,
   "metadata": {},
   "outputs": [
    {
     "data": {
      "text/plain": [
       "pizza_size\n",
       "L      38.24\n",
       "M      31.54\n",
       "S      29.05\n",
       "XL      1.11\n",
       "XXL     0.06\n",
       "Name: quantity, dtype: float64"
      ]
     },
     "execution_count": 87,
     "metadata": {},
     "output_type": "execute_result"
    }
   ],
   "source": [
    "# Percentage pizza size quantity\n",
    "Pizza_Size_Quantity_P = ((pizza_df.groupby('pizza_size')['quantity'].sum())/pizza_df['quantity'].sum())*100\n",
    "Pizza_Size_Quantity_P.sort_values(ascending=False).round(2)"
   ]
  },
  {
   "cell_type": "code",
   "execution_count": 89,
   "metadata": {},
   "outputs": [
    {
     "data": {
      "text/plain": [
       "pizza_category\n",
       "Classic    220053.10\n",
       "Supreme    208197.00\n",
       "Chicken    195919.50\n",
       "Veggie     193690.45\n",
       "Name: total_price, dtype: float64"
      ]
     },
     "execution_count": 89,
     "metadata": {},
     "output_type": "execute_result"
    }
   ],
   "source": [
    "# Pizza category sales\n",
    "Pizza_Category_Sales = pizza_df.groupby('pizza_category')['total_price'].sum()\n",
    "Pizza_Category_Sales.sort_values(ascending=False)"
   ]
  },
  {
   "cell_type": "code",
   "execution_count": 94,
   "metadata": {},
   "outputs": [
    {
     "data": {
      "text/plain": [
       "pizza_size\n",
       "L      375318.70\n",
       "M      249382.25\n",
       "S      178076.50\n",
       "XL      14076.00\n",
       "XXL      1006.60\n",
       "Name: total_price, dtype: float64"
      ]
     },
     "execution_count": 94,
     "metadata": {},
     "output_type": "execute_result"
    }
   ],
   "source": [
    "# Pizza size sales\n",
    "Pizza_Size_Sales = pizza_df.groupby('pizza_size')['total_price'].sum()\n",
    "Pizza_Size_Sales.sort_values(ascending=False)"
   ]
  },
  {
   "cell_type": "code",
   "execution_count": 93,
   "metadata": {},
   "outputs": [
    {
     "data": {
      "text/html": [
       "<div>\n",
       "<style scoped>\n",
       "    .dataframe tbody tr th:only-of-type {\n",
       "        vertical-align: middle;\n",
       "    }\n",
       "\n",
       "    .dataframe tbody tr th {\n",
       "        vertical-align: top;\n",
       "    }\n",
       "\n",
       "    .dataframe thead th {\n",
       "        text-align: right;\n",
       "    }\n",
       "</style>\n",
       "<table border=\"1\" class=\"dataframe\">\n",
       "  <thead>\n",
       "    <tr style=\"text-align: right;\">\n",
       "      <th>pizza_size</th>\n",
       "      <th>L</th>\n",
       "      <th>M</th>\n",
       "      <th>S</th>\n",
       "      <th>XL</th>\n",
       "      <th>XXL</th>\n",
       "    </tr>\n",
       "    <tr>\n",
       "      <th>pizza_category</th>\n",
       "      <th></th>\n",
       "      <th></th>\n",
       "      <th></th>\n",
       "      <th></th>\n",
       "      <th></th>\n",
       "    </tr>\n",
       "  </thead>\n",
       "  <tbody>\n",
       "    <tr>\n",
       "      <th>Chicken</th>\n",
       "      <td>102339.0</td>\n",
       "      <td>65224.50</td>\n",
       "      <td>28356.00</td>\n",
       "      <td>NaN</td>\n",
       "      <td>NaN</td>\n",
       "    </tr>\n",
       "    <tr>\n",
       "      <th>Classic</th>\n",
       "      <td>74518.5</td>\n",
       "      <td>60581.75</td>\n",
       "      <td>69870.25</td>\n",
       "      <td>14076.0</td>\n",
       "      <td>1006.6</td>\n",
       "    </tr>\n",
       "    <tr>\n",
       "      <th>Supreme</th>\n",
       "      <td>94258.5</td>\n",
       "      <td>66475.00</td>\n",
       "      <td>47463.50</td>\n",
       "      <td>NaN</td>\n",
       "      <td>NaN</td>\n",
       "    </tr>\n",
       "    <tr>\n",
       "      <th>Veggie</th>\n",
       "      <td>104202.7</td>\n",
       "      <td>57101.00</td>\n",
       "      <td>32386.75</td>\n",
       "      <td>NaN</td>\n",
       "      <td>NaN</td>\n",
       "    </tr>\n",
       "  </tbody>\n",
       "</table>\n",
       "</div>"
      ],
      "text/plain": [
       "pizza_size             L         M         S       XL     XXL\n",
       "pizza_category                                               \n",
       "Chicken         102339.0  65224.50  28356.00      NaN     NaN\n",
       "Classic          74518.5  60581.75  69870.25  14076.0  1006.6\n",
       "Supreme          94258.5  66475.00  47463.50      NaN     NaN\n",
       "Veggie          104202.7  57101.00  32386.75      NaN     NaN"
      ]
     },
     "execution_count": 93,
     "metadata": {},
     "output_type": "execute_result"
    }
   ],
   "source": [
    "# Pizza category and size sales\n",
    "Pizza_Cat_Size_Sales = pizza_df.groupby(['pizza_category','pizza_size'])['total_price'].sum()\n",
    "Pizza_Cat_Size_Sales.reset_index().pivot(index='pizza_category', columns='pizza_size',values='total_price')"
   ]
  },
  {
   "cell_type": "code",
   "execution_count": 95,
   "metadata": {},
   "outputs": [
    {
     "data": {
      "text/html": [
       "<div>\n",
       "<style scoped>\n",
       "    .dataframe tbody tr th:only-of-type {\n",
       "        vertical-align: middle;\n",
       "    }\n",
       "\n",
       "    .dataframe tbody tr th {\n",
       "        vertical-align: top;\n",
       "    }\n",
       "\n",
       "    .dataframe thead th {\n",
       "        text-align: right;\n",
       "    }\n",
       "</style>\n",
       "<table border=\"1\" class=\"dataframe\">\n",
       "  <thead>\n",
       "    <tr style=\"text-align: right;\">\n",
       "      <th>pizza_size</th>\n",
       "      <th>L</th>\n",
       "      <th>M</th>\n",
       "      <th>S</th>\n",
       "      <th>XL</th>\n",
       "      <th>XXL</th>\n",
       "    </tr>\n",
       "    <tr>\n",
       "      <th>pizza_category</th>\n",
       "      <th></th>\n",
       "      <th></th>\n",
       "      <th></th>\n",
       "      <th></th>\n",
       "      <th></th>\n",
       "    </tr>\n",
       "  </thead>\n",
       "  <tbody>\n",
       "    <tr>\n",
       "      <th>Chicken</th>\n",
       "      <td>4932.0</td>\n",
       "      <td>3894.0</td>\n",
       "      <td>2224.0</td>\n",
       "      <td>NaN</td>\n",
       "      <td>NaN</td>\n",
       "    </tr>\n",
       "    <tr>\n",
       "      <th>Classic</th>\n",
       "      <td>4057.0</td>\n",
       "      <td>4112.0</td>\n",
       "      <td>6139.0</td>\n",
       "      <td>552.0</td>\n",
       "      <td>28.0</td>\n",
       "    </tr>\n",
       "    <tr>\n",
       "      <th>Supreme</th>\n",
       "      <td>4564.0</td>\n",
       "      <td>4046.0</td>\n",
       "      <td>3377.0</td>\n",
       "      <td>NaN</td>\n",
       "      <td>NaN</td>\n",
       "    </tr>\n",
       "    <tr>\n",
       "      <th>Veggie</th>\n",
       "      <td>5403.0</td>\n",
       "      <td>3583.0</td>\n",
       "      <td>2663.0</td>\n",
       "      <td>NaN</td>\n",
       "      <td>NaN</td>\n",
       "    </tr>\n",
       "  </tbody>\n",
       "</table>\n",
       "</div>"
      ],
      "text/plain": [
       "pizza_size           L       M       S     XL   XXL\n",
       "pizza_category                                     \n",
       "Chicken         4932.0  3894.0  2224.0    NaN   NaN\n",
       "Classic         4057.0  4112.0  6139.0  552.0  28.0\n",
       "Supreme         4564.0  4046.0  3377.0    NaN   NaN\n",
       "Veggie          5403.0  3583.0  2663.0    NaN   NaN"
      ]
     },
     "execution_count": 95,
     "metadata": {},
     "output_type": "execute_result"
    }
   ],
   "source": [
    "# Pizza category and size quantity\n",
    "Pizza_Cat_Size_Quantity = pizza_df.groupby(['pizza_category','pizza_size'])['quantity'].sum()\n",
    "Pizza_Cat_Size_Quantity.reset_index().pivot(index='pizza_category', columns='pizza_size',values='quantity')"
   ]
  },
  {
   "cell_type": "code",
   "execution_count": 99,
   "metadata": {},
   "outputs": [
    {
     "data": {
      "text/plain": [
       "pizza_name\n",
       "The Thai Chicken Pizza          43434.25\n",
       "The Barbecue Chicken Pizza      42768.00\n",
       "The California Chicken Pizza    41409.50\n",
       "The Classic Deluxe Pizza        38180.50\n",
       "The Spicy Italian Pizza         34831.25\n",
       "Name: total_price, dtype: float64"
      ]
     },
     "execution_count": 99,
     "metadata": {},
     "output_type": "execute_result"
    }
   ],
   "source": [
    "# TOP 5 Bestseller pizza by names\n",
    "Pizza_Best_Seller = pizza_df.groupby('pizza_name')['total_price'].sum()\n",
    "Pizza_Best_Seller.sort_values(ascending=False).head(5)"
   ]
  },
  {
   "cell_type": "code",
   "execution_count": 100,
   "metadata": {},
   "outputs": [
    {
     "data": {
      "text/plain": [
       "pizza_name\n",
       "The Brie Carre Pizza         11588.50\n",
       "The Green Garden Pizza       13955.75\n",
       "The Spinach Supreme Pizza    15277.75\n",
       "The Mediterranean Pizza      15360.50\n",
       "The Spinach Pesto Pizza      15596.00\n",
       "Name: total_price, dtype: float64"
      ]
     },
     "execution_count": 100,
     "metadata": {},
     "output_type": "execute_result"
    }
   ],
   "source": [
    "# Bottle 5 pizza by name\n",
    "Pizza_bottle_seller = pizza_df.groupby('pizza_name')['total_price'].sum()\n",
    "Pizza_bottle_seller.sort_values(ascending=True).head(5)"
   ]
  },
  {
   "cell_type": "code",
   "execution_count": null,
   "metadata": {},
   "outputs": [],
   "source": []
  }
 ],
 "metadata": {
  "kernelspec": {
   "display_name": "Python 3",
   "language": "python",
   "name": "python3"
  },
  "language_info": {
   "codemirror_mode": {
    "name": "ipython",
    "version": 3
   },
   "file_extension": ".py",
   "mimetype": "text/x-python",
   "name": "python",
   "nbconvert_exporter": "python",
   "pygments_lexer": "ipython3",
   "version": "3.12.0"
  }
 },
 "nbformat": 4,
 "nbformat_minor": 2
}
