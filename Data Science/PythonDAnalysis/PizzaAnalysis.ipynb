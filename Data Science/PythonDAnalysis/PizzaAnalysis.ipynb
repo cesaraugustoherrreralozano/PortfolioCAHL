{
 "cells": [
  {
   "cell_type": "markdown",
   "metadata": {},
   "source": [
    "# Pizza Project Data Analysis"
   ]
  },
  {
   "cell_type": "code",
   "execution_count": 1,
   "metadata": {},
   "outputs": [],
   "source": [
    "import pandas as pd"
   ]
  },
  {
   "cell_type": "code",
   "execution_count": 3,
   "metadata": {},
   "outputs": [],
   "source": [
    "%load_ext sql"
   ]
  },
  {
   "cell_type": "code",
   "execution_count": 201,
   "metadata": {},
   "outputs": [
    {
     "name": "stderr",
     "output_type": "stream",
     "text": [
      "C:\\Users\\herre\\AppData\\Local\\Temp\\ipykernel_15948\\2205702042.py:3: UserWarning: Could not infer format, so each element will be parsed individually, falling back to `dateutil`. To ensure parsing is consistent and as-expected, please specify a format.\n",
      "  pizza_df['order_time'] = pd.to_datetime(pizza_df['order_time']).dt.time\n"
     ]
    },
    {
     "data": {
      "text/plain": [
       "48620"
      ]
     },
     "execution_count": 201,
     "metadata": {},
     "output_type": "execute_result"
    }
   ],
   "source": [
    "pizza_df = pd.read_csv('C:/Users/herre/JupyterNotebooks/Notebooks/PortfolioCAHL/PortfolioCAHL/Data Science/SQLPractice/PythonSQLProjects/DatabasePizzaProject/pizza_sales.csv')\n",
    "pizza_df['order_date'] = pd.to_datetime(pizza_df['order_date'], format='%d-%m-%Y')\n",
    "pizza_df['order_time'] = pd.to_datetime(pizza_df['order_time']).dt.time\n",
    "pizza_df['Year'] = year()\n",
    "pizza_df['Month'] = pd.to_datetime(pizza_df['order_time']).dt.time\n",
    "pizza_df['Day'] = pd.to_datetime(pizza_df['order_date'], format='%d-%m-%Y')\n",
    "pizza_df['NumWeekDay'] = pd.to_datetime(pizza_df['order_time']).dt.time\n",
    "pizza_df['NameWeekDay'] = pd.to_datetime(pizza_df['order_time']).dt.time\n",
    "\n",
    "pizza_df.to_sql(\"PizzaData\", conn, if_exists='replace', index=False, method='multi', chunksize=100)"
   ]
  },
  {
   "cell_type": "code",
   "execution_count": 171,
   "metadata": {},
   "outputs": [],
   "source": [
    "%sql sqlite:///PizzaProject.db"
   ]
  },
  {
   "cell_type": "code",
   "execution_count": 172,
   "metadata": {},
   "outputs": [
    {
     "name": "stdout",
     "output_type": "stream",
     "text": [
      " * sqlite:///PizzaProject.db\n",
      "Done.\n"
     ]
    },
    {
     "data": {
      "text/html": [
       "<table>\n",
       "    <thead>\n",
       "        <tr>\n",
       "            <th>Total_Revenue</th>\n",
       "        </tr>\n",
       "    </thead>\n",
       "    <tbody>\n",
       "        <tr>\n",
       "            <td>817860.0</td>\n",
       "        </tr>\n",
       "    </tbody>\n",
       "</table>"
      ],
      "text/plain": [
       "[(817860.0,)]"
      ]
     },
     "execution_count": 172,
     "metadata": {},
     "output_type": "execute_result"
    }
   ],
   "source": [
    "# Total Revenue\n",
    "%sql SELECT ROUND(SUM(total_price),0) as Total_Revenue FROM PizzaData;"
   ]
  },
  {
   "cell_type": "code",
   "execution_count": 173,
   "metadata": {},
   "outputs": [
    {
     "name": "stdout",
     "output_type": "stream",
     "text": [
      " * sqlite:///PizzaProject.db\n",
      "Done.\n"
     ]
    },
    {
     "data": {
      "text/html": [
       "<table>\n",
       "    <thead>\n",
       "        <tr>\n",
       "            <th>Avg_Order_Revenue</th>\n",
       "        </tr>\n",
       "    </thead>\n",
       "    <tbody>\n",
       "        <tr>\n",
       "            <td>38.31</td>\n",
       "        </tr>\n",
       "    </tbody>\n",
       "</table>"
      ],
      "text/plain": [
       "[(38.31,)]"
      ]
     },
     "execution_count": 173,
     "metadata": {},
     "output_type": "execute_result"
    }
   ],
   "source": [
    "# Average order revenue\n",
    "%sql SELECT ROUND(SUM(total_price)/ COUNT(DISTINCT(order_id)),2) as Avg_Order_Revenue FROM PizzaData;"
   ]
  },
  {
   "cell_type": "code",
   "execution_count": 174,
   "metadata": {},
   "outputs": [
    {
     "name": "stdout",
     "output_type": "stream",
     "text": [
      " * sqlite:///PizzaProject.db\n",
      "Done.\n"
     ]
    },
    {
     "data": {
      "text/html": [
       "<table>\n",
       "    <thead>\n",
       "        <tr>\n",
       "            <th>Total_Pizza_Sold</th>\n",
       "        </tr>\n",
       "    </thead>\n",
       "    <tbody>\n",
       "        <tr>\n",
       "            <td>49574</td>\n",
       "        </tr>\n",
       "    </tbody>\n",
       "</table>"
      ],
      "text/plain": [
       "[(49574,)]"
      ]
     },
     "execution_count": 174,
     "metadata": {},
     "output_type": "execute_result"
    }
   ],
   "source": [
    "# Total Pizza Sold\n",
    "%sql SELECT SUM(quantity) as Total_Pizza_Sold FROM PizzaData;"
   ]
  },
  {
   "cell_type": "code",
   "execution_count": 175,
   "metadata": {},
   "outputs": [
    {
     "name": "stdout",
     "output_type": "stream",
     "text": [
      " * sqlite:///PizzaProject.db\n",
      "Done.\n"
     ]
    },
    {
     "data": {
      "text/html": [
       "<table>\n",
       "    <thead>\n",
       "        <tr>\n",
       "            <th>Total_Orders</th>\n",
       "        </tr>\n",
       "    </thead>\n",
       "    <tbody>\n",
       "        <tr>\n",
       "            <td>21350</td>\n",
       "        </tr>\n",
       "    </tbody>\n",
       "</table>"
      ],
      "text/plain": [
       "[(21350,)]"
      ]
     },
     "execution_count": 175,
     "metadata": {},
     "output_type": "execute_result"
    }
   ],
   "source": [
    "# Total Orders\n",
    "%sql SELECT COUNT(DISTINCT(order_id)) as Total_Orders FROM PizzaData;"
   ]
  },
  {
   "cell_type": "code",
   "execution_count": 176,
   "metadata": {},
   "outputs": [
    {
     "name": "stdout",
     "output_type": "stream",
     "text": [
      " * sqlite:///PizzaProject.db\n",
      "Done.\n"
     ]
    },
    {
     "data": {
      "text/html": [
       "<table>\n",
       "    <thead>\n",
       "        <tr>\n",
       "            <th>Avg_Pizza_Order</th>\n",
       "        </tr>\n",
       "    </thead>\n",
       "    <tbody>\n",
       "        <tr>\n",
       "            <td>2</td>\n",
       "        </tr>\n",
       "    </tbody>\n",
       "</table>"
      ],
      "text/plain": [
       "[(2,)]"
      ]
     },
     "execution_count": 176,
     "metadata": {},
     "output_type": "execute_result"
    }
   ],
   "source": [
    "# Average Pizza per Order\n",
    "%sql SELECT SUM(quantity) / COUNT(DISTINCT order_id) AS Avg_Pizza_Order FROM PizzaData;"
   ]
  },
  {
   "cell_type": "code",
   "execution_count": 177,
   "metadata": {},
   "outputs": [
    {
     "name": "stdout",
     "output_type": "stream",
     "text": [
      " * sqlite:///PizzaProject.db\n",
      "48620 rows affected.\n",
      " * sqlite:///PizzaProject.db\n",
      "Done.\n"
     ]
    },
    {
     "data": {
      "text/html": [
       "<table>\n",
       "    <thead>\n",
       "        <tr>\n",
       "            <th>order_day</th>\n",
       "            <th>Total_Orders</th>\n",
       "        </tr>\n",
       "    </thead>\n",
       "    <tbody>\n",
       "        <tr>\n",
       "            <td>None</td>\n",
       "            <td>21350</td>\n",
       "        </tr>\n",
       "    </tbody>\n",
       "</table>"
      ],
      "text/plain": [
       "[(None, 21350)]"
      ]
     },
     "execution_count": 177,
     "metadata": {},
     "output_type": "execute_result"
    }
   ],
   "source": [
    "# Daily trend for total orders\n",
    "%sql UPDATE PizzaData SET order_date = datetime(order_date);\n",
    "%sql SELECT strftime('%A', order_date) as order_day, COUNT(DISTINCT order_id) as Total_Orders FROM PizzaData GROUP BY order_day;\n"
   ]
  },
  {
   "cell_type": "code",
   "execution_count": 178,
   "metadata": {},
   "outputs": [
    {
     "name": "stdout",
     "output_type": "stream",
     "text": [
      " * sqlite:///PizzaProject.db\n",
      "Done.\n"
     ]
    },
    {
     "data": {
      "text/html": [
       "<table>\n",
       "    <thead>\n",
       "        <tr>\n",
       "            <th>pizza_id</th>\n",
       "            <th>order_id</th>\n",
       "            <th>pizza_name_id</th>\n",
       "            <th>quantity</th>\n",
       "            <th>order_date</th>\n",
       "            <th>order_time</th>\n",
       "            <th>unit_price</th>\n",
       "            <th>total_price</th>\n",
       "            <th>pizza_size</th>\n",
       "            <th>pizza_category</th>\n",
       "            <th>pizza_ingredients</th>\n",
       "            <th>pizza_name</th>\n",
       "        </tr>\n",
       "    </thead>\n",
       "    <tbody>\n",
       "        <tr>\n",
       "            <td>1</td>\n",
       "            <td>1</td>\n",
       "            <td>hawaiian_m</td>\n",
       "            <td>1</td>\n",
       "            <td>2015-01-01 00:00:00</td>\n",
       "            <td>11:38:36.000000</td>\n",
       "            <td>13.25</td>\n",
       "            <td>13.25</td>\n",
       "            <td>M</td>\n",
       "            <td>Classic</td>\n",
       "            <td>Sliced Ham, Pineapple, Mozzarella Cheese</td>\n",
       "            <td>The Hawaiian Pizza</td>\n",
       "        </tr>\n",
       "    </tbody>\n",
       "</table>"
      ],
      "text/plain": [
       "[(1, 1, 'hawaiian_m', 1, '2015-01-01 00:00:00', '11:38:36.000000', 13.25, 13.25, 'M', 'Classic', 'Sliced Ham, Pineapple, Mozzarella Cheese', 'The Hawaiian Pizza')]"
      ]
     },
     "execution_count": 178,
     "metadata": {},
     "output_type": "execute_result"
    }
   ],
   "source": [
    "%sql SELECT * FROM PizzaData LIMIT 1;"
   ]
  },
  {
   "cell_type": "code",
   "execution_count": 199,
   "metadata": {},
   "outputs": [
    {
     "name": "stdout",
     "output_type": "stream",
     "text": [
      " * sqlite:///PizzaProject.db\n",
      "Done.\n"
     ]
    },
    {
     "data": {
      "text/html": [
       "<table>\n",
       "    <thead>\n",
       "        <tr>\n",
       "            <th>order_date</th>\n",
       "            <th>order_id</th>\n",
       "            <th>Day</th>\n",
       "            <th>Num_day</th>\n",
       "            <th>Month</th>\n",
       "            <th>Year</th>\n",
       "        </tr>\n",
       "    </thead>\n",
       "    <tbody>\n",
       "    </tbody>\n",
       "</table>"
      ],
      "text/plain": [
       "[]"
      ]
     },
     "execution_count": 199,
     "metadata": {},
     "output_type": "execute_result"
    }
   ],
   "source": [
    "%sql SELECT order_date, order_id,strftime('%d', order_date) as Day, \\\n",
    "    strftime('%w', order_date) as Num_day,\\\n",
    "    strftime('%m', order_date) as Month,\\\n",
    "    strftime('%Y', order_date) as Year\\\n",
    "    FROM PizzaData \\\n",
    "    WHERE Num_day in(5) LIMIT 10;"
   ]
  },
  {
   "cell_type": "code",
   "execution_count": 191,
   "metadata": {},
   "outputs": [
    {
     "name": "stdout",
     "output_type": "stream",
     "text": [
      " * sqlite:///PizzaProject.db\n",
      "Done.\n"
     ]
    },
    {
     "data": {
      "text/html": [
       "<table>\n",
       "    <thead>\n",
       "        <tr>\n",
       "            <th>Name_day</th>\n",
       "            <th>Total_Order</th>\n",
       "        </tr>\n",
       "    </thead>\n",
       "    <tbody>\n",
       "        <tr>\n",
       "            <td>Thursday</td>\n",
       "            <td>2</td>\n",
       "        </tr>\n",
       "    </tbody>\n",
       "</table>"
      ],
      "text/plain": [
       "[('Thursday', 2)]"
      ]
     },
     "execution_count": 191,
     "metadata": {},
     "output_type": "execute_result"
    }
   ],
   "source": [
    "%sql SELECT Name_day, COUNT(DISTINCT(order_id)) as Total_Order  FROM Date_Update_ \\\n",
    "LIMIT 5;"
   ]
  },
  {
   "cell_type": "code",
   "execution_count": 185,
   "metadata": {},
   "outputs": [
    {
     "name": "stdout",
     "output_type": "stream",
     "text": [
      " * sqlite:///PizzaProject.db\n",
      "Done.\n"
     ]
    },
    {
     "data": {
      "text/html": [
       "<table>\n",
       "    <thead>\n",
       "        <tr>\n",
       "            <th>pizza_id</th>\n",
       "            <th>order_id</th>\n",
       "            <th>pizza_name_id</th>\n",
       "            <th>quantity</th>\n",
       "            <th>order_date</th>\n",
       "            <th>order_time</th>\n",
       "            <th>unit_price</th>\n",
       "            <th>total_price</th>\n",
       "            <th>pizza_size</th>\n",
       "            <th>pizza_category</th>\n",
       "            <th>pizza_ingredients</th>\n",
       "            <th>pizza_name</th>\n",
       "        </tr>\n",
       "    </thead>\n",
       "    <tbody>\n",
       "        <tr>\n",
       "            <td>1</td>\n",
       "            <td>1</td>\n",
       "            <td>hawaiian_m</td>\n",
       "            <td>1</td>\n",
       "            <td>2015-01-01 00:00:00</td>\n",
       "            <td>11:38:36.000000</td>\n",
       "            <td>13.25</td>\n",
       "            <td>13.25</td>\n",
       "            <td>M</td>\n",
       "            <td>Classic</td>\n",
       "            <td>Sliced Ham, Pineapple, Mozzarella Cheese</td>\n",
       "            <td>The Hawaiian Pizza</td>\n",
       "        </tr>\n",
       "    </tbody>\n",
       "</table>"
      ],
      "text/plain": [
       "[(1, 1, 'hawaiian_m', 1, '2015-01-01 00:00:00', '11:38:36.000000', 13.25, 13.25, 'M', 'Classic', 'Sliced Ham, Pineapple, Mozzarella Cheese', 'The Hawaiian Pizza')]"
      ]
     },
     "execution_count": 185,
     "metadata": {},
     "output_type": "execute_result"
    }
   ],
   "source": [
    "%sql SELECT * FROM PizzaData LIMIT 1;"
   ]
  }
 ],
 "metadata": {
  "kernelspec": {
   "display_name": "Python 3",
   "language": "python",
   "name": "python3"
  },
  "language_info": {
   "codemirror_mode": {
    "name": "ipython",
    "version": 3
   },
   "file_extension": ".py",
   "mimetype": "text/x-python",
   "name": "python",
   "nbconvert_exporter": "python",
   "pygments_lexer": "ipython3",
   "version": "3.12.0"
  }
 },
 "nbformat": 4,
 "nbformat_minor": 2
}
