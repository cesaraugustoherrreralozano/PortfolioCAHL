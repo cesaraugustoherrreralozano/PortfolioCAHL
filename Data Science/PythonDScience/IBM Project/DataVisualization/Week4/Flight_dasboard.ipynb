{
 "cells": [
  {
   "cell_type": "markdown",
   "metadata": {},
   "source": [
    "# Flight Dashboard"
   ]
  },
  {
   "cell_type": "markdown",
   "metadata": {},
   "source": [
    "## Import Libraries"
   ]
  },
  {
   "cell_type": "code",
   "execution_count": 1,
   "metadata": {},
   "outputs": [],
   "source": [
    "# Import required libraries\n",
    "import pandas as pd\n",
    "import plotly.graph_objects as go\n",
    "import dash\n",
    "from dash import dcc\n",
    "from dash import html\n",
    "from dash.dependencies import Input, Output\n",
    "import plotly.express as px"
   ]
  },
  {
   "cell_type": "code",
   "execution_count": 4,
   "metadata": {},
   "outputs": [
    {
     "data": {
      "text/html": [
       "\n",
       "        <iframe\n",
       "            width=\"100%\"\n",
       "            height=\"650\"\n",
       "            src=\"http://127.0.0.1:8050/\"\n",
       "            frameborder=\"0\"\n",
       "            allowfullscreen\n",
       "            \n",
       "        ></iframe>\n",
       "        "
      ],
      "text/plain": [
       "<IPython.lib.display.IFrame at 0x25acdba6810>"
      ]
     },
     "metadata": {},
     "output_type": "display_data"
    }
   ],
   "source": [
    "\n",
    "\n",
    "# Read the airline data into pandas dataframe\n",
    "airline_data =  pd.read_csv('https://cf-courses-data.s3.us.cloud-object-storage.appdomain.cloud/IBMDeveloperSkillsNetwork-DV0101EN-SkillsNetwork/Data%20Files/airline_data.csv', \n",
    "                            encoding = \"ISO-8859-1\",\n",
    "                            dtype={'Div1Airport': str, 'Div1TailNum': str, \n",
    "                                   'Div2Airport': str, 'Div2TailNum': str})\n",
    "\n",
    "# Create a dash application\n",
    "app = dash.Dash(__name__)\n",
    "\n",
    "# Build dash app layout\n",
    "app.layout = html.Div(children=[ html.H1('Flight Detail Statistics Dashboard',style={'textAlign': 'right', 'color': '#503D36', 'font-size': 30}),\n",
    "                                html.Div([\"Input Year: \", dcc.Input(id='input-year',value='2010',type='number',style={'height':'35px', 'font_size':30})],\n",
    "                                style={'font-size': 30}),\n",
    "                                html.Br(),\n",
    "                                html.Br(), \n",
    "                                html.Div([\n",
    "                                        html.Div(dcc.Graph(id='carrier-plot')),\n",
    "                                        html.Div(dcc.Graph(id='weather-plot'))\n",
    "                                ], style={'display': 'flex'}),\n",
    "    \n",
    "                                html.Div([\n",
    "                                        html.Div(dcc.Graph(id='nas-plot')),\n",
    "                                        html.Div(dcc.Graph(id='security-plot'))\n",
    "                                ], style={'display': 'flex'}),\n",
    "                                \n",
    "                                html.Div(dcc.Graph(id='late-plot'), style={'width':'100%', 'display': 'inline-block'})\n",
    "                                ])\n",
    "\n",
    "def compute_info(airline_data,entered_year):\n",
    "    # Select the data from airline_data the csv imported\n",
    "    df = airline_data[airline_data['Year']==int(entered_year)]\n",
    "\n",
    "    # Compute delay averages for each graph\n",
    "    avg_car = df.groupby(['Month','Reporting_Airline'])['CarrierDelay'].mean().reset_index()\n",
    "    avg_weather = df.groupby(['Month','Reporting_Airline'])['WeatherDelay'].mean().reset_index()\n",
    "    avg_nas = df.groupby(['Month','Reporting_Airline'])['NASDelay'].mean().reset_index()\n",
    "    avg_security = df.groupby(['Month','Reporting_Airline'])['SecurityDelay'].mean().reset_index()\n",
    "    avg_late = df.groupby(['Month','Reporting_Airline'])['LateAircraftDelay'].mean().reset_index()\n",
    "\n",
    "    return avg_car, avg_weather, avg_nas,avg_security,avg_late\n",
    "\n",
    "@app.callback([\n",
    "                Output(component_id='carrier-plot', component_property='figure'),\n",
    "                Output(component_id='weather-plot', component_property='figure'),\n",
    "                Output(component_id='nas-plot', component_property='figure'),\n",
    "                Output(component_id='security-plot', component_property='figure'),\n",
    "                Output(component_id='late-plot', component_property='figure')\n",
    "                ],\n",
    "                Input(component_id='input-year', component_property='value')\n",
    ")\n",
    "\n",
    "def get_graph(entered_year):\n",
    "    # Compute required information for creating graph from the data\n",
    "    avg_car, avg_weather,avg_nas,avg_security,avg_late = compute_info(airline_data, entered_year)\n",
    "    \n",
    "    # Line plot for carrier delay\n",
    "    carrier_fig = px.line(avg_car, x='Month', y='CarrierDelay', color='Reporting_Airline', title='Average carrier delay time (minutes) by airline')\n",
    "    # Line plot for weather delay\n",
    "    weather_fig = px.line(avg_weather, x='Month',y='WeatherDelay', color='Reporting_Airline', title='Average Weather Delay time (minutes) by airline')\n",
    "    # Line plot for nas\n",
    "    nas_figure = px.line(avg_nas, x='Month', y='NASDelay', color='Reporting_Airline', title='Average National Air System Delay time (minutes) by airline')\n",
    "    # Line plot for Security\n",
    "    security_figure = px.line(avg_security, x='Month', y='SecurityDelay', color = 'Reporting_Airline', title='Average Security Delay (minutes) by airline')\n",
    "    # Line plot for late aircraft\n",
    "    late_figure = px.line(avg_late, x='Month', y='LateAircraftDelay', color='Reporting_Airline', title='Average Late Aircraft Delay (minutes) by airline')\n",
    "\n",
    "    return[carrier_fig, weather_fig, nas_figure, security_figure, late_figure]\n",
    "\n",
    "#Run the app\n",
    "if __name__=='__main__':\n",
    "    app.run_server()"
   ]
  },
  {
   "cell_type": "code",
   "execution_count": null,
   "metadata": {},
   "outputs": [],
   "source": []
  }
 ],
 "metadata": {
  "kernelspec": {
   "display_name": "Python 3",
   "language": "python",
   "name": "python3"
  },
  "language_info": {
   "codemirror_mode": {
    "name": "ipython",
    "version": 3
   },
   "file_extension": ".py",
   "mimetype": "text/x-python",
   "name": "python",
   "nbconvert_exporter": "python",
   "pygments_lexer": "ipython3",
   "version": "3.12.0"
  }
 },
 "nbformat": 4,
 "nbformat_minor": 2
}
